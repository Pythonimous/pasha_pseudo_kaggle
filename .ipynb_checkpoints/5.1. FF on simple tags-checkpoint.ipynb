{
 "cells": [
  {
   "cell_type": "markdown",
   "metadata": {},
   "source": [
    "Простая feedforward сеть на тэгах, корреляция которых с классом по модулю >= 0.001 (что оставило 1247 тэгов) плюс ещё три ad-hoc фичи (наличие разметки, наличие кода и длина поста)."
   ]
  },
  {
   "cell_type": "code",
   "execution_count": 21,
   "metadata": {},
   "outputs": [],
   "source": [
    "import re\n",
    "import numpy as np\n",
    "import pandas as pd\n",
    "import seaborn as sns\n",
    "import matplotlib.pyplot as plt\n",
    "import plotly.express as px\n",
    "import nltk"
   ]
  },
  {
   "cell_type": "code",
   "execution_count": 22,
   "metadata": {},
   "outputs": [],
   "source": [
    "from sklearn.preprocessing import normalize\n",
    "from sklearn.model_selection import train_test_split"
   ]
  },
  {
   "cell_type": "code",
   "execution_count": 3,
   "metadata": {},
   "outputs": [],
   "source": [
    "train_tags = pd.read_csv('preproc_files/train_tags.csv')\n",
    "test_tags = pd.read_csv('preproc_files/test_tags.csv')"
   ]
  },
  {
   "cell_type": "code",
   "execution_count": 4,
   "metadata": {},
   "outputs": [],
   "source": [
    "y = train_tags['class']\n",
    "X = normalize(train_tags.drop('class', axis=1))\n",
    "X_test = normalize(test_tags)"
   ]
  },
  {
   "cell_type": "code",
   "execution_count": 5,
   "metadata": {},
   "outputs": [],
   "source": [
    "X_train, X_val, y_train, y_val = train_test_split(X, y, test_size = 0.1, random_state=42)"
   ]
  },
  {
   "cell_type": "markdown",
   "metadata": {},
   "source": [
    "На этом попробуем простую FF-сеть."
   ]
  },
  {
   "cell_type": "code",
   "execution_count": 6,
   "metadata": {},
   "outputs": [
    {
     "data": {
      "text/plain": [
       "((43200, 1250), (4800, 1250), (43200,), (4800,))"
      ]
     },
     "execution_count": 6,
     "metadata": {},
     "output_type": "execute_result"
    }
   ],
   "source": [
    "X_train.shape, X_val.shape, y_train.shape, y_val.shape"
   ]
  },
  {
   "cell_type": "code",
   "execution_count": 8,
   "metadata": {},
   "outputs": [],
   "source": [
    "import tensorflow as tf"
   ]
  },
  {
   "cell_type": "code",
   "execution_count": 9,
   "metadata": {},
   "outputs": [],
   "source": [
    "import tensorflow.keras as keras\n",
    "from tensorflow.keras import Model\n",
    "from tensorflow.keras.models import Sequential\n",
    "from tensorflow.keras.layers import Input, Dense, Dropout, BatchNormalization"
   ]
  },
  {
   "cell_type": "code",
   "execution_count": 10,
   "metadata": {},
   "outputs": [],
   "source": [
    "from tensorflow.keras.callbacks import EarlyStopping, ModelCheckpoint, ReduceLROnPlateau"
   ]
  },
  {
   "cell_type": "code",
   "execution_count": 87,
   "metadata": {},
   "outputs": [],
   "source": [
    "from utils import plot_train_acc, plot_train_loss"
   ]
  },
  {
   "cell_type": "code",
   "execution_count": 11,
   "metadata": {},
   "outputs": [],
   "source": [
    "seed=42"
   ]
  },
  {
   "cell_type": "code",
   "execution_count": 113,
   "metadata": {},
   "outputs": [],
   "source": [
    "def build_ff(in_size, dropout_rate, num_classes):\n",
    "    feat_input = Input(shape=(in_size,))\n",
    "    z = Dense(256, activation='relu')(feat_input)\n",
    "    z = BatchNormalization(trainable=True)(z)\n",
    "    z = Dropout(dropout_rate)(z)\n",
    "    z = Dense(256, activation='relu')(z)\n",
    "    z = BatchNormalization(trainable=True)(z)\n",
    "    z = Dropout(dropout_rate)(z)\n",
    "    y = Dense(num_classes, activation='softmax')(z)\n",
    "    model = Model(inputs=feat_input, outputs=y)\n",
    "    return model"
   ]
  },
  {
   "cell_type": "code",
   "execution_count": 114,
   "metadata": {},
   "outputs": [],
   "source": [
    "in_size = 1250\n",
    "dropout_rate = 0.4\n",
    "batch_size = 512\n",
    "epochs = 100\n",
    "num_classes = 3"
   ]
  },
  {
   "cell_type": "code",
   "execution_count": 115,
   "metadata": {},
   "outputs": [],
   "source": [
    "model = build_ff(in_size, dropout_rate, num_classes)"
   ]
  },
  {
   "cell_type": "code",
   "execution_count": 116,
   "metadata": {},
   "outputs": [],
   "source": [
    "mc = ModelCheckpoint('checkpoints/best_ff_features.h5', monitor='val_loss', mode='auto', save_best_only=True)\n",
    "earlystop = EarlyStopping(monitor='val_acc', patience=3, min_delta=0.0001)\n",
    "lr_reduction = ReduceLROnPlateau(monitor='val_acc', patience = 2, verbose=1,factor=0.4, min_lr=0.0000001)"
   ]
  },
  {
   "cell_type": "code",
   "execution_count": 117,
   "metadata": {},
   "outputs": [
    {
     "name": "stdout",
     "output_type": "stream",
     "text": [
      "Model: \"model_12\"\n",
      "_________________________________________________________________\n",
      "Layer (type)                 Output Shape              Param #   \n",
      "=================================================================\n",
      "input_13 (InputLayer)        [(None, 1250)]            0         \n",
      "_________________________________________________________________\n",
      "dense_39 (Dense)             (None, 256)               320256    \n",
      "_________________________________________________________________\n",
      "batch_normalization_27 (Batc (None, 256)               1024      \n",
      "_________________________________________________________________\n",
      "dropout_27 (Dropout)         (None, 256)               0         \n",
      "_________________________________________________________________\n",
      "dense_40 (Dense)             (None, 256)               65792     \n",
      "_________________________________________________________________\n",
      "batch_normalization_28 (Batc (None, 256)               1024      \n",
      "_________________________________________________________________\n",
      "dropout_28 (Dropout)         (None, 256)               0         \n",
      "_________________________________________________________________\n",
      "dense_41 (Dense)             (None, 3)                 771       \n",
      "=================================================================\n",
      "Total params: 388,867\n",
      "Trainable params: 387,843\n",
      "Non-trainable params: 1,024\n",
      "_________________________________________________________________\n",
      "None\n"
     ]
    }
   ],
   "source": [
    "model.compile(loss='sparse_categorical_crossentropy',\n",
    "              optimizer='adam',\n",
    "              metrics=['acc'])\n",
    "print(model.summary())"
   ]
  },
  {
   "cell_type": "code",
   "execution_count": 118,
   "metadata": {},
   "outputs": [
    {
     "name": "stdout",
     "output_type": "stream",
     "text": [
      "Train on 43200 samples, validate on 4800 samples\n",
      "Epoch 1/100\n",
      "43200/43200 [==============================] - 3s 76us/sample - loss: 0.7403 - acc: 0.7060 - val_loss: 1.0964 - val_acc: 0.3429\n",
      "Epoch 2/100\n",
      "43200/43200 [==============================] - 1s 25us/sample - loss: 0.5086 - acc: 0.7795 - val_loss: 1.0506 - val_acc: 0.3435\n",
      "Epoch 3/100\n",
      "43200/43200 [==============================] - 1s 27us/sample - loss: 0.4540 - acc: 0.8035 - val_loss: 0.9409 - val_acc: 0.3994\n",
      "Epoch 4/100\n",
      "43200/43200 [==============================] - 1s 28us/sample - loss: 0.4306 - acc: 0.8140 - val_loss: 0.8006 - val_acc: 0.5940\n",
      "Epoch 5/100\n",
      "43200/43200 [==============================] - 1s 25us/sample - loss: 0.4142 - acc: 0.8217 - val_loss: 0.6496 - val_acc: 0.6985\n",
      "Epoch 6/100\n",
      "43200/43200 [==============================] - 1s 26us/sample - loss: 0.3955 - acc: 0.8321 - val_loss: 0.5284 - val_acc: 0.7690\n",
      "Epoch 7/100\n",
      "43200/43200 [==============================] - 1s 22us/sample - loss: 0.3841 - acc: 0.8342 - val_loss: 0.4711 - val_acc: 0.7969\n",
      "Epoch 8/100\n",
      "43200/43200 [==============================] - 1s 23us/sample - loss: 0.3726 - acc: 0.8417 - val_loss: 0.4472 - val_acc: 0.7990\n",
      "Epoch 9/100\n",
      "43200/43200 [==============================] - 1s 25us/sample - loss: 0.3624 - acc: 0.8441 - val_loss: 0.4502 - val_acc: 0.8048\n",
      "Epoch 10/100\n",
      "43200/43200 [==============================] - 1s 24us/sample - loss: 0.3543 - acc: 0.8491 - val_loss: 0.4562 - val_acc: 0.8060\n",
      "Epoch 11/100\n",
      "43200/43200 [==============================] - 1s 23us/sample - loss: 0.3447 - acc: 0.8527 - val_loss: 0.4630 - val_acc: 0.8046\n",
      "Epoch 12/100\n",
      "43200/43200 [==============================] - 1s 22us/sample - loss: 0.3367 - acc: 0.8580 - val_loss: 0.4717 - val_acc: 0.8071\n",
      "Epoch 13/100\n",
      "43200/43200 [==============================] - 1s 24us/sample - loss: 0.3311 - acc: 0.8602 - val_loss: 0.4771 - val_acc: 0.8012\n",
      "Epoch 14/100\n",
      "43200/43200 [==============================] - 1s 24us/sample - loss: 0.3235 - acc: 0.8616 - val_loss: 0.4819 - val_acc: 0.8073\n",
      "Epoch 15/100\n",
      "43200/43200 [==============================] - 1s 24us/sample - loss: 0.3161 - acc: 0.8668 - val_loss: 0.4897 - val_acc: 0.8048\n",
      "Epoch 16/100\n",
      "41472/43200 [===========================>..] - ETA: 0s - loss: 0.3114 - acc: 0.8704\n",
      "Epoch 00016: ReduceLROnPlateau reducing learning rate to 0.0004000000189989805.\n",
      "43200/43200 [==============================] - 1s 32us/sample - loss: 0.3113 - acc: 0.8704 - val_loss: 0.4959 - val_acc: 0.8060\n",
      "Epoch 17/100\n",
      "43200/43200 [==============================] - 1s 23us/sample - loss: 0.2937 - acc: 0.8754 - val_loss: 0.5061 - val_acc: 0.8046\n"
     ]
    }
   ],
   "source": [
    "history=model.fit(X_train, y_train,\n",
    "          batch_size=batch_size,\n",
    "          epochs=epochs,\n",
    "          callbacks = [mc, earlystop, lr_reduction],\n",
    "          verbose=1,\n",
    "          validation_data=(X_val, y_val))"
   ]
  },
  {
   "cell_type": "code",
   "execution_count": 119,
   "metadata": {},
   "outputs": [
    {
     "data": {
      "image/png": "[encoded data removed]",
      "text/plain": [
       "<Figure size 432x288 with 1 Axes>"
      ]
     },
     "metadata": {
      "needs_background": "light"
     },
     "output_type": "display_data"
    }
   ],
   "source": [
    "plot_train_acc(history)"
   ]
  },
  {
   "cell_type": "code",
   "execution_count": 120,
   "metadata": {},
   "outputs": [
    {
     "data": {
      "image/png": "[encoded data removed]",
      "text/plain": [
       "<Figure size 432x288 with 1 Axes>"
      ]
     },
     "metadata": {
      "needs_background": "light"
     },
     "output_type": "display_data"
    }
   ],
   "source": [
    "plot_train_loss(history)"
   ]
  },
  {
   "cell_type": "code",
   "execution_count": null,
   "metadata": {},
   "outputs": [],
   "source": []
  }
 ],
 "metadata": {
  "kernelspec": {
   "display_name": "Python 3",
   "language": "python",
   "name": "python3"
  },
  "language_info": {
   "codemirror_mode": {
    "name": "ipython",
    "version": 3
   },
   "file_extension": ".py",
   "mimetype": "text/x-python",
   "name": "python",
   "nbconvert_exporter": "python",
   "pygments_lexer": "ipython3",
   "version": "3.6.9"
  }
 },
 "nbformat": 4,
 "nbformat_minor": 4
}
