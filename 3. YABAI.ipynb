{
 "cells": [
  {
   "cell_type": "markdown",
   "metadata": {},
   "source": [
    "## Сложные репрезентации"
   ]
  },
  {
   "cell_type": "markdown",
   "metadata": {},
   "source": [
    "**Примечание в ретроспективе** Здесь я (пока) не загружал веса эмбеддингов в Embedding-слои напрямую, а использовал самый тупой и примитивный метод предобработки с помощью эмбеддингов. Rest assured, на следующих этапах всё используется как положено."
   ]
  },
  {
   "cell_type": "markdown",
   "metadata": {},
   "source": [
    "И продолжим мы как водится предобученными эмбеддингами. Сначала используем GoogleNews W2v."
   ]
  },
  {
   "cell_type": "code",
   "execution_count": 6,
   "metadata": {},
   "outputs": [],
   "source": [
    "import numpy as np\n",
    "import gensim"
   ]
  },
  {
   "cell_type": "code",
   "execution_count": 11,
   "metadata": {},
   "outputs": [],
   "source": [
    "en_w2v = gensim.models.KeyedVectors.load_word2vec_format(\"embeddings/GoogleNews-vectors-negative300.bin\", binary=True)"
   ]
  },
  {
   "cell_type": "markdown",
   "metadata": {},
   "source": [
    "Сначала представим тексты просто как среднее от векторов их составляющих."
   ]
  },
  {
   "cell_type": "code",
   "execution_count": 15,
   "metadata": {},
   "outputs": [
    {
     "data": {
      "text/plain": [
       "(300,)"
      ]
     },
     "execution_count": 15,
     "metadata": {},
     "output_type": "execute_result"
    }
   ],
   "source": [
    "en_w2v['dog'].shape"
   ]
  },
  {
   "cell_type": "code",
   "execution_count": 23,
   "metadata": {},
   "outputs": [],
   "source": [
    "def vectorize(text):\n",
    "    vectors = []\n",
    "    for word in text.split():\n",
    "        try:\n",
    "            vectors.append(en_w2v[word])\n",
    "        except KeyError:\n",
    "            vectors.append(np.zeros((300,)))\n",
    "    return np.mean(vectors, axis=0)"
   ]
  },
  {
   "cell_type": "code",
   "execution_count": 33,
   "metadata": {},
   "outputs": [
    {
     "name": "stderr",
     "output_type": "stream",
     "text": [
      "100%|██████████| 48000/48000 [00:04<00:00, 9668.88it/s] \n"
     ]
    }
   ],
   "source": [
    "X_vectors = normalize(np.array([vectorize(text) for text in tqdm(X_text)])).reshape(48000,300,1)"
   ]
  },
  {
   "cell_type": "code",
   "execution_count": 199,
   "metadata": {},
   "outputs": [
    {
     "data": {
      "text/plain": [
       "((48000, 300, 1), (48000,))"
      ]
     },
     "execution_count": 199,
     "metadata": {},
     "output_type": "execute_result"
    }
   ],
   "source": [
    "X_vectors.shape, y.shape"
   ]
  },
  {
   "cell_type": "code",
   "execution_count": 63,
   "metadata": {},
   "outputs": [],
   "source": [
    "def train_dev_test(X, y, seed=42):\n",
    "    X_train, X_test, y_train, y_test = train_test_split(X, y, test_size=0.1, random_state=seed)\n",
    "    X_val, X_test, y_val, y_test = train_test_split(X_test, y_test, test_size=0.5, random_state=seed)\n",
    "    return X_train, X_val, X_test, y_train, y_val, y_test"
   ]
  },
  {
   "cell_type": "code",
   "execution_count": 201,
   "metadata": {},
   "outputs": [],
   "source": [
    "X_train, X_val, X_test, y_train, y_val, y_test = train_dev_test(X_vectors, y, 42)"
   ]
  },
  {
   "cell_type": "markdown",
   "metadata": {},
   "source": [
    "На этом попробуем простую FF-сеть."
   ]
  },
  {
   "cell_type": "code",
   "execution_count": 8,
   "metadata": {},
   "outputs": [
    {
     "name": "stderr",
     "output_type": "stream",
     "text": [
      "/home/pythonimous/venv/data-science/lib/python3.6/site-packages/tensorflow/python/framework/dtypes.py:516: FutureWarning: Passing (type, 1) or '1type' as a synonym of type is deprecated; in a future version of numpy, it will be understood as (type, (1,)) / '(1,)type'.\n",
      "  _np_qint8 = np.dtype([(\"qint8\", np.int8, 1)])\n",
      "/home/pythonimous/venv/data-science/lib/python3.6/site-packages/tensorflow/python/framework/dtypes.py:517: FutureWarning: Passing (type, 1) or '1type' as a synonym of type is deprecated; in a future version of numpy, it will be understood as (type, (1,)) / '(1,)type'.\n",
      "  _np_quint8 = np.dtype([(\"quint8\", np.uint8, 1)])\n",
      "/home/pythonimous/venv/data-science/lib/python3.6/site-packages/tensorflow/python/framework/dtypes.py:518: FutureWarning: Passing (type, 1) or '1type' as a synonym of type is deprecated; in a future version of numpy, it will be understood as (type, (1,)) / '(1,)type'.\n",
      "  _np_qint16 = np.dtype([(\"qint16\", np.int16, 1)])\n",
      "/home/pythonimous/venv/data-science/lib/python3.6/site-packages/tensorflow/python/framework/dtypes.py:519: FutureWarning: Passing (type, 1) or '1type' as a synonym of type is deprecated; in a future version of numpy, it will be understood as (type, (1,)) / '(1,)type'.\n",
      "  _np_quint16 = np.dtype([(\"quint16\", np.uint16, 1)])\n",
      "/home/pythonimous/venv/data-science/lib/python3.6/site-packages/tensorflow/python/framework/dtypes.py:520: FutureWarning: Passing (type, 1) or '1type' as a synonym of type is deprecated; in a future version of numpy, it will be understood as (type, (1,)) / '(1,)type'.\n",
      "  _np_qint32 = np.dtype([(\"qint32\", np.int32, 1)])\n",
      "/home/pythonimous/venv/data-science/lib/python3.6/site-packages/tensorflow/python/framework/dtypes.py:525: FutureWarning: Passing (type, 1) or '1type' as a synonym of type is deprecated; in a future version of numpy, it will be understood as (type, (1,)) / '(1,)type'.\n",
      "  np_resource = np.dtype([(\"resource\", np.ubyte, 1)])\n",
      "/home/pythonimous/venv/data-science/lib/python3.6/site-packages/tensorboard/compat/tensorflow_stub/dtypes.py:541: FutureWarning: Passing (type, 1) or '1type' as a synonym of type is deprecated; in a future version of numpy, it will be understood as (type, (1,)) / '(1,)type'.\n",
      "  _np_qint8 = np.dtype([(\"qint8\", np.int8, 1)])\n",
      "/home/pythonimous/venv/data-science/lib/python3.6/site-packages/tensorboard/compat/tensorflow_stub/dtypes.py:542: FutureWarning: Passing (type, 1) or '1type' as a synonym of type is deprecated; in a future version of numpy, it will be understood as (type, (1,)) / '(1,)type'.\n",
      "  _np_quint8 = np.dtype([(\"quint8\", np.uint8, 1)])\n",
      "/home/pythonimous/venv/data-science/lib/python3.6/site-packages/tensorboard/compat/tensorflow_stub/dtypes.py:543: FutureWarning: Passing (type, 1) or '1type' as a synonym of type is deprecated; in a future version of numpy, it will be understood as (type, (1,)) / '(1,)type'.\n",
      "  _np_qint16 = np.dtype([(\"qint16\", np.int16, 1)])\n",
      "/home/pythonimous/venv/data-science/lib/python3.6/site-packages/tensorboard/compat/tensorflow_stub/dtypes.py:544: FutureWarning: Passing (type, 1) or '1type' as a synonym of type is deprecated; in a future version of numpy, it will be understood as (type, (1,)) / '(1,)type'.\n",
      "  _np_quint16 = np.dtype([(\"quint16\", np.uint16, 1)])\n",
      "/home/pythonimous/venv/data-science/lib/python3.6/site-packages/tensorboard/compat/tensorflow_stub/dtypes.py:545: FutureWarning: Passing (type, 1) or '1type' as a synonym of type is deprecated; in a future version of numpy, it will be understood as (type, (1,)) / '(1,)type'.\n",
      "  _np_qint32 = np.dtype([(\"qint32\", np.int32, 1)])\n",
      "/home/pythonimous/venv/data-science/lib/python3.6/site-packages/tensorboard/compat/tensorflow_stub/dtypes.py:550: FutureWarning: Passing (type, 1) or '1type' as a synonym of type is deprecated; in a future version of numpy, it will be understood as (type, (1,)) / '(1,)type'.\n",
      "  np_resource = np.dtype([(\"resource\", np.ubyte, 1)])\n"
     ]
    }
   ],
   "source": [
    "import tensorflow as tf\n",
    "from sklearn.preprocessing import LabelEncoder"
   ]
  },
  {
   "cell_type": "code",
   "execution_count": 9,
   "metadata": {},
   "outputs": [],
   "source": [
    "import tensorflow.keras as keras\n",
    "from tensorflow.keras import Model\n",
    "from tensorflow.keras.models import Sequential\n",
    "from tensorflow.keras.layers import Input, Dense, Dropout, BatchNormalization"
   ]
  },
  {
   "cell_type": "code",
   "execution_count": 10,
   "metadata": {},
   "outputs": [],
   "source": [
    "from tensorflow.keras.callbacks import EarlyStopping, ModelCheckpoint"
   ]
  },
  {
   "cell_type": "code",
   "execution_count": 11,
   "metadata": {},
   "outputs": [],
   "source": [
    "seed=42"
   ]
  },
  {
   "cell_type": "code",
   "execution_count": 101,
   "metadata": {},
   "outputs": [],
   "source": [
    "def build_ff(emb_size, dropout_rate, num_classes):\n",
    "    word_input = Input(shape=(emb_size,1))\n",
    "    z = Dense(2048, activation='relu')(word_input)\n",
    "    z = BatchNormalization(trainable=True)(z)\n",
    "    z = Dropout(dropout_rate)(z)\n",
    "    z = Dense(1024, activation='relu')(word_input)\n",
    "    z = BatchNormalization(trainable=True)(z)\n",
    "    z = Dropout(dropout_rate)(z)\n",
    "    z = Dense(512, activation='relu')(word_input)\n",
    "    z = BatchNormalization(trainable=True)(z)\n",
    "    z = Dropout(dropout_rate)(z)\n",
    "    z = Dense(256, activation='relu')(z)\n",
    "    z = BatchNormalization(trainable=True)(z)\n",
    "    z = Dropout(dropout_rate)(z)\n",
    "    y = Dense(num_classes, activation='softmax')(z)\n",
    "    model = Model(inputs=word_input, outputs=y)\n",
    "    return model"
   ]
  },
  {
   "cell_type": "code",
   "execution_count": 140,
   "metadata": {},
   "outputs": [],
   "source": [
    "emb_size = 300\n",
    "dropout_rate = 0.2\n",
    "batch_size = 512\n",
    "epochs = 100\n",
    "num_classes = 3"
   ]
  },
  {
   "cell_type": "code",
   "execution_count": 103,
   "metadata": {},
   "outputs": [],
   "source": [
    "model = build_ff(emb_size, dropout_rate, num_classes)"
   ]
  },
  {
   "cell_type": "code",
   "execution_count": 104,
   "metadata": {},
   "outputs": [],
   "source": [
    "mc = ModelCheckpoint('checkpoints/best_ff.h5', monitor='val_loss', mode='auto', save_best_only=True)\n",
    "earlystop = EarlyStopping(monitor='val_loss', patience=3)"
   ]
  },
  {
   "cell_type": "code",
   "execution_count": 105,
   "metadata": {},
   "outputs": [
    {
     "name": "stdout",
     "output_type": "stream",
     "text": [
      "Model: \"model_4\"\n",
      "_________________________________________________________________\n",
      "Layer (type)                 Output Shape              Param #   \n",
      "=================================================================\n",
      "input_7 (InputLayer)         [(None, 300)]             0         \n",
      "_________________________________________________________________\n",
      "dense_16 (Dense)             (None, 512)               154112    \n",
      "_________________________________________________________________\n",
      "batch_normalization_11 (Batc (None, 512)               2048      \n",
      "_________________________________________________________________\n",
      "dropout_11 (Dropout)         (None, 512)               0         \n",
      "_________________________________________________________________\n",
      "dense_17 (Dense)             (None, 256)               131328    \n",
      "_________________________________________________________________\n",
      "batch_normalization_12 (Batc (None, 256)               1024      \n",
      "_________________________________________________________________\n",
      "dropout_12 (Dropout)         (None, 256)               0         \n",
      "_________________________________________________________________\n",
      "dense_18 (Dense)             (None, 3)                 771       \n",
      "=================================================================\n",
      "Total params: 289,283\n",
      "Trainable params: 287,747\n",
      "Non-trainable params: 1,536\n",
      "_________________________________________________________________\n",
      "None\n"
     ]
    }
   ],
   "source": [
    "model.compile(loss='sparse_categorical_crossentropy',\n",
    "              optimizer='adam',\n",
    "              metrics=['acc'])\n",
    "print(model.summary())"
   ]
  },
  {
   "cell_type": "code",
   "execution_count": 106,
   "metadata": {},
   "outputs": [
    {
     "name": "stdout",
     "output_type": "stream",
     "text": [
      "Train on 43200 samples, validate on 2400 samples\n",
      "Epoch 1/100\n",
      "43200/43200 [==============================] - 2s 39us/sample - loss: 0.9788 - acc: 0.5928 - val_loss: 1.0463 - val_acc: 0.5050\n",
      "Epoch 2/100\n",
      "43200/43200 [==============================] - 1s 18us/sample - loss: 0.7772 - acc: 0.6542 - val_loss: 1.0024 - val_acc: 0.6292\n",
      "Epoch 3/100\n",
      "43200/43200 [==============================] - 1s 19us/sample - loss: 0.7276 - acc: 0.6792 - val_loss: 0.9697 - val_acc: 0.5821\n",
      "Epoch 4/100\n",
      "43200/43200 [==============================] - 1s 19us/sample - loss: 0.7025 - acc: 0.6943 - val_loss: 0.9050 - val_acc: 0.6363\n",
      "Epoch 5/100\n",
      "43200/43200 [==============================] - 1s 19us/sample - loss: 0.6762 - acc: 0.7046 - val_loss: 0.8498 - val_acc: 0.6388\n",
      "Epoch 6/100\n",
      "43200/43200 [==============================] - 1s 19us/sample - loss: 0.6583 - acc: 0.7134 - val_loss: 0.8017 - val_acc: 0.6558\n",
      "Epoch 7/100\n",
      "43200/43200 [==============================] - 1s 18us/sample - loss: 0.6381 - acc: 0.7243 - val_loss: 0.7675 - val_acc: 0.6508\n",
      "Epoch 8/100\n",
      "43200/43200 [==============================] - 1s 19us/sample - loss: 0.6240 - acc: 0.7339 - val_loss: 0.7422 - val_acc: 0.6629\n",
      "Epoch 9/100\n",
      "43200/43200 [==============================] - 1s 19us/sample - loss: 0.6044 - acc: 0.7413 - val_loss: 0.7562 - val_acc: 0.6671\n",
      "Epoch 10/100\n",
      "43200/43200 [==============================] - 1s 19us/sample - loss: 0.5829 - acc: 0.7523 - val_loss: 0.7725 - val_acc: 0.6667\n",
      "Epoch 11/100\n",
      "43200/43200 [==============================] - 1s 18us/sample - loss: 0.5710 - acc: 0.7582 - val_loss: 0.7709 - val_acc: 0.6708\n"
     ]
    }
   ],
   "source": [
    "history=model.fit(X_train, y_train,\n",
    "          batch_size=batch_size,\n",
    "          epochs=epochs,\n",
    "          callbacks = [mc, earlystop],\n",
    "          verbose=1,\n",
    "          validation_data=(X_val, y_val))"
   ]
  },
  {
   "cell_type": "code",
   "execution_count": 98,
   "metadata": {},
   "outputs": [],
   "source": [
    "def plot_train_acc(history):\n",
    "    acc = history.history['acc']\n",
    "    val_acc = history.history['val_acc']\n",
    "    plot_epochs = range(1, len(acc) + 1)\n",
    "\n",
    "    plt.plot(plot_epochs, acc, 'r', label='Training acc')\n",
    "    plt.plot(plot_epochs, val_acc, 'b', label='Validation acc')\n",
    "    plt.title('Training and validation accuracy')\n",
    "    plt.xlabel('Epochs')\n",
    "    plt.ylabel('Accuracy')\n",
    "    plt.legend()\n",
    "\n",
    "    plt.show()"
   ]
  },
  {
   "cell_type": "code",
   "execution_count": 103,
   "metadata": {},
   "outputs": [],
   "source": [
    "def plot_train_loss(history):\n",
    "    loss = history.history['loss']\n",
    "    val_loss = history.history['val_loss']\n",
    "    plot_epochs = range(1, len(loss) + 1)\n",
    "\n",
    "    plt.plot(plot_epochs, loss, 'r', label='Training loss')\n",
    "    plt.plot(plot_epochs, val_loss, 'b', label='Validation loss')\n",
    "    plt.title('Training and validation loss')\n",
    "    plt.xlabel('Epochs')\n",
    "    plt.ylabel('Loss')\n",
    "    plt.legend()\n",
    "\n",
    "    plt.show()"
   ]
  },
  {
   "cell_type": "code",
   "execution_count": 109,
   "metadata": {},
   "outputs": [
    {
     "name": "stdout",
     "output_type": "stream",
     "text": [
      "Test loss: 0.7156716156005859\n",
      "Test accuracy: 0.6933333\n"
     ]
    }
   ],
   "source": [
    "model.load_weights('checkpoints/best_ff.h5')\n",
    "score = model.evaluate(X_test, y_test, verbose=0)\n",
    "print('Test loss:', score[0])\n",
    "print('Test accuracy:', score[1])"
   ]
  },
  {
   "cell_type": "markdown",
   "metadata": {},
   "source": [
    "Обычная feedforward сеть не очень хорошо подходит для решения такой задачи. Попробуем CNN."
   ]
  },
  {
   "cell_type": "code",
   "execution_count": 110,
   "metadata": {},
   "outputs": [],
   "source": [
    "from tensorflow.keras.layers import Flatten, Conv1D, MaxPooling1D"
   ]
  },
  {
   "cell_type": "code",
   "execution_count": 186,
   "metadata": {},
   "outputs": [],
   "source": [
    "def build_cnn(emb_size, dropout_rate, num_classes):\n",
    "    word_input = Input(shape=(emb_size,1))\n",
    "    conv1 = Conv1D(26, 2, activation='relu')(word_input)\n",
    "    conv1 = MaxPooling1D(3)(conv1)\n",
    "    conv1 = Flatten()(conv1)\n",
    "    conv1 = BatchNormalization(trainable=True)(conv1)\n",
    "    z1 = Dense(256, activation='relu')(conv1)\n",
    "    z1 = BatchNormalization(trainable=True)(z1)\n",
    "    z1 = Dropout(dropout_rate)(z1)\n",
    "    z2 = Dense(128, activation='relu')(z1)\n",
    "    z2 = BatchNormalization(trainable=True)(z2)\n",
    "    z2 = Dropout(dropout_rate)(z2)\n",
    "    y = Dense(num_classes, activation='softmax')(z2)\n",
    "    model = Model(inputs=word_input, outputs=y)\n",
    "    return model"
   ]
  },
  {
   "cell_type": "code",
   "execution_count": 187,
   "metadata": {},
   "outputs": [],
   "source": [
    "cnn = build_cnn(emb_size, dropout_rate, num_classes)"
   ]
  },
  {
   "cell_type": "code",
   "execution_count": 189,
   "metadata": {},
   "outputs": [],
   "source": [
    "mc = ModelCheckpoint('checkpoints/best_cnn.h5', monitor='val_loss', mode='auto', save_best_only=True)"
   ]
  },
  {
   "cell_type": "code",
   "execution_count": 190,
   "metadata": {},
   "outputs": [
    {
     "name": "stdout",
     "output_type": "stream",
     "text": [
      "Model: \"model_12\"\n",
      "_________________________________________________________________\n",
      "Layer (type)                 Output Shape              Param #   \n",
      "=================================================================\n",
      "input_17 (InputLayer)        [(None, 300, 1)]          0         \n",
      "_________________________________________________________________\n",
      "conv1d_9 (Conv1D)            (None, 299, 26)           78        \n",
      "_________________________________________________________________\n",
      "max_pooling1d_7 (MaxPooling1 (None, 99, 26)            0         \n",
      "_________________________________________________________________\n",
      "flatten_7 (Flatten)          (None, 2574)              0         \n",
      "_________________________________________________________________\n",
      "batch_normalization_35 (Batc (None, 2574)              10296     \n",
      "_________________________________________________________________\n",
      "dense_41 (Dense)             (None, 256)               659200    \n",
      "_________________________________________________________________\n",
      "batch_normalization_36 (Batc (None, 256)               1024      \n",
      "_________________________________________________________________\n",
      "dropout_28 (Dropout)         (None, 256)               0         \n",
      "_________________________________________________________________\n",
      "dense_42 (Dense)             (None, 128)               32896     \n",
      "_________________________________________________________________\n",
      "batch_normalization_37 (Batc (None, 128)               512       \n",
      "_________________________________________________________________\n",
      "dropout_29 (Dropout)         (None, 128)               0         \n",
      "_________________________________________________________________\n",
      "dense_43 (Dense)             (None, 3)                 387       \n",
      "=================================================================\n",
      "Total params: 704,393\n",
      "Trainable params: 698,477\n",
      "Non-trainable params: 5,916\n",
      "_________________________________________________________________\n",
      "None\n"
     ]
    }
   ],
   "source": [
    "cnn.compile(loss='sparse_categorical_crossentropy',\n",
    "            optimizer='adam',\n",
    "            metrics=['acc'])\n",
    "print(cnn.summary())"
   ]
  },
  {
   "cell_type": "code",
   "execution_count": 191,
   "metadata": {},
   "outputs": [
    {
     "name": "stdout",
     "output_type": "stream",
     "text": [
      "Train on 43200 samples, validate on 2400 samples\n",
      "Epoch 1/100\n",
      "43200/43200 [==============================] - 6s 147us/sample - loss: 0.9603 - acc: 0.5854 - val_loss: 1.0712 - val_acc: 0.5446\n",
      "Epoch 2/100\n",
      "43200/43200 [==============================] - 4s 81us/sample - loss: 0.7706 - acc: 0.6549 - val_loss: 1.0530 - val_acc: 0.4883\n",
      "Epoch 3/100\n",
      "43200/43200 [==============================] - 3s 80us/sample - loss: 0.7161 - acc: 0.6840 - val_loss: 1.0391 - val_acc: 0.5183\n",
      "Epoch 4/100\n",
      "43200/43200 [==============================] - 4s 82us/sample - loss: 0.6803 - acc: 0.7019 - val_loss: 1.0327 - val_acc: 0.4842\n",
      "Epoch 5/100\n",
      "43200/43200 [==============================] - 4s 85us/sample - loss: 0.6466 - acc: 0.7219 - val_loss: 0.9833 - val_acc: 0.5121\n",
      "Epoch 6/100\n",
      "43200/43200 [==============================] - 4s 85us/sample - loss: 0.6169 - acc: 0.7362 - val_loss: 0.9168 - val_acc: 0.5683\n",
      "Epoch 7/100\n",
      "43200/43200 [==============================] - 4s 88us/sample - loss: 0.5943 - acc: 0.7462 - val_loss: 0.8079 - val_acc: 0.6179\n",
      "Epoch 8/100\n",
      "43200/43200 [==============================] - 4s 88us/sample - loss: 0.5634 - acc: 0.7628 - val_loss: 0.7609 - val_acc: 0.6625\n",
      "Epoch 9/100\n",
      "43200/43200 [==============================] - 4s 90us/sample - loss: 0.5379 - acc: 0.7729 - val_loss: 0.7845 - val_acc: 0.6533\n",
      "Epoch 10/100\n",
      "43200/43200 [==============================] - 4s 89us/sample - loss: 0.5160 - acc: 0.7841 - val_loss: 0.7952 - val_acc: 0.6650\n",
      "Epoch 11/100\n",
      "43200/43200 [==============================] - 4s 89us/sample - loss: 0.4806 - acc: 0.7993 - val_loss: 0.8577 - val_acc: 0.6608\n"
     ]
    }
   ],
   "source": [
    "history=cnn.fit(X_train, y_train,\n",
    "        batch_size=batch_size,\n",
    "        epochs=epochs,\n",
    "        callbacks = [mc, earlystop],\n",
    "        verbose=1,\n",
    "        validation_data=(X_val, y_val))"
   ]
  },
  {
   "cell_type": "code",
   "execution_count": 192,
   "metadata": {},
   "outputs": [
    {
     "data": {
      "image/png": "[encoded data removed]",
      "text/plain": [
       "<Figure size 432x288 with 1 Axes>"
      ]
     },
     "metadata": {
      "needs_background": "light"
     },
     "output_type": "display_data"
    }
   ],
   "source": [
    "plot_train_acc(history)"
   ]
  },
  {
   "cell_type": "code",
   "execution_count": 193,
   "metadata": {},
   "outputs": [
    {
     "data": {
      "image/png": "[encoded data removed]",
      "text/plain": [
       "<Figure size 432x288 with 1 Axes>"
      ]
     },
     "metadata": {
      "needs_background": "light"
     },
     "output_type": "display_data"
    }
   ],
   "source": [
    "plot_train_loss(history)"
   ]
  },
  {
   "cell_type": "code",
   "execution_count": 196,
   "metadata": {},
   "outputs": [
    {
     "name": "stdout",
     "output_type": "stream",
     "text": [
      "Test loss: 0.7434298714001973\n",
      "Test accuracy: 0.6720833\n"
     ]
    }
   ],
   "source": [
    "cnn.load_weights('checkpoints/best_cnn.h5')\n",
    "score = cnn.evaluate(X_test, y_test, verbose=0)\n",
    "print('Test loss:', score[0])\n",
    "print('Test accuracy:', score[1])"
   ]
  },
  {
   "cell_type": "code",
   "execution_count": 202,
   "metadata": {},
   "outputs": [
    {
     "name": "stdout",
     "output_type": "stream",
     "text": [
      "Model: \"model_13\"\n",
      "_________________________________________________________________\n",
      "Layer (type)                 Output Shape              Param #   \n",
      "=================================================================\n",
      "input_18 (InputLayer)        [(None, 300, 1)]          0         \n",
      "_________________________________________________________________\n",
      "conv1d_10 (Conv1D)           (None, 299, 26)           78        \n",
      "_________________________________________________________________\n",
      "max_pooling1d_8 (MaxPooling1 (None, 99, 26)            0         \n",
      "_________________________________________________________________\n",
      "flatten_8 (Flatten)          (None, 2574)              0         \n",
      "_________________________________________________________________\n",
      "batch_normalization_38 (Batc (None, 2574)              10296     \n",
      "_________________________________________________________________\n",
      "dense_44 (Dense)             (None, 256)               659200    \n",
      "_________________________________________________________________\n",
      "batch_normalization_39 (Batc (None, 256)               1024      \n",
      "_________________________________________________________________\n",
      "dropout_30 (Dropout)         (None, 256)               0         \n",
      "_________________________________________________________________\n",
      "dense_45 (Dense)             (None, 128)               32896     \n",
      "_________________________________________________________________\n",
      "batch_normalization_40 (Batc (None, 128)               512       \n",
      "_________________________________________________________________\n",
      "dropout_31 (Dropout)         (None, 128)               0         \n",
      "_________________________________________________________________\n",
      "dense_46 (Dense)             (None, 3)                 387       \n",
      "=================================================================\n",
      "Total params: 704,393\n",
      "Trainable params: 698,477\n",
      "Non-trainable params: 5,916\n",
      "_________________________________________________________________\n",
      "None\n"
     ]
    }
   ],
   "source": [
    "cnn = build_cnn(emb_size, dropout_rate, num_classes)\n",
    "cnn.compile(loss='sparse_categorical_crossentropy',\n",
    "            optimizer='adam',\n",
    "            metrics=['acc'])\n",
    "print(cnn.summary())"
   ]
  },
  {
   "cell_type": "code",
   "execution_count": 203,
   "metadata": {},
   "outputs": [
    {
     "name": "stdout",
     "output_type": "stream",
     "text": [
      "Train on 48000 samples, validate on 2400 samples\n",
      "Epoch 1/10\n",
      "48000/48000 [==============================] - 5s 101us/sample - loss: 0.9459 - acc: 0.5889 - val_loss: 1.0735 - val_acc: 0.4229\n",
      "Epoch 2/10\n",
      "48000/48000 [==============================] - 4s 81us/sample - loss: 0.7639 - acc: 0.6579 - val_loss: 1.0521 - val_acc: 0.6142\n",
      "Epoch 3/10\n",
      "48000/48000 [==============================] - 4s 79us/sample - loss: 0.7076 - acc: 0.6901 - val_loss: 1.0285 - val_acc: 0.5471\n",
      "Epoch 4/10\n",
      "48000/48000 [==============================] - 4s 79us/sample - loss: 0.6766 - acc: 0.7054 - val_loss: 1.0029 - val_acc: 0.4904\n",
      "Epoch 5/10\n",
      "48000/48000 [==============================] - 4s 80us/sample - loss: 0.6461 - acc: 0.7217 - val_loss: 0.8908 - val_acc: 0.6708\n",
      "Epoch 6/10\n",
      "48000/48000 [==============================] - 6s 122us/sample - loss: 0.6179 - acc: 0.7362 - val_loss: 0.7492 - val_acc: 0.7233\n",
      "Epoch 7/10\n",
      "48000/48000 [==============================] - 4s 82us/sample - loss: 0.5885 - acc: 0.7497 - val_loss: 0.6026 - val_acc: 0.7738\n",
      "Epoch 8/10\n",
      "48000/48000 [==============================] - 4s 82us/sample - loss: 0.5614 - acc: 0.7637 - val_loss: 0.4943 - val_acc: 0.7979\n",
      "Epoch 9/10\n",
      "48000/48000 [==============================] - 4s 83us/sample - loss: 0.5308 - acc: 0.7776 - val_loss: 0.4374 - val_acc: 0.8392\n",
      "Epoch 10/10\n",
      "48000/48000 [==============================] - 4s 84us/sample - loss: 0.5065 - acc: 0.7897 - val_loss: 0.4002 - val_acc: 0.8487\n"
     ]
    },
    {
     "data": {
      "text/plain": [
       "<tensorflow.python.keras.callbacks.History at 0x7fb96c1a3c50>"
      ]
     },
     "execution_count": 203,
     "metadata": {},
     "output_type": "execute_result"
    }
   ],
   "source": [
    "cnn.fit(X_vectors, y,\n",
    "batch_size=batch_size,\n",
    "epochs=10,\n",
    "callbacks = [mc],\n",
    "verbose=1,\n",
    "validation_data=(X_val, y_val))"
   ]
  },
  {
   "cell_type": "markdown",
   "metadata": {},
   "source": [
    "**Примечание в ретроспективе**: не обращай внимание на валидационные цифры, я хз, зачем я валидацию тут оставлял. В общем это просто обучение на всех данных для предсказания результатов на тестовой выборке, не более."
   ]
  },
  {
   "cell_type": "code",
   "execution_count": 205,
   "metadata": {},
   "outputs": [
    {
     "name": "stderr",
     "output_type": "stream",
     "text": [
      "100%|██████████| 12000/12000 [00:01<00:00, 8619.64it/s]\n"
     ]
    }
   ],
   "source": [
    "X_test_vectors = normalize(np.array([vectorize(text) for text in tqdm(test['text'])])).reshape(12000,300,1)"
   ]
  },
  {
   "cell_type": "code",
   "execution_count": 213,
   "metadata": {},
   "outputs": [],
   "source": [
    "outs = [np.argmax(j) for j in cnn.predict(X_test_vectors)]"
   ]
  },
  {
   "cell_type": "code",
   "execution_count": 215,
   "metadata": {},
   "outputs": [],
   "source": [
    "X_id = test['id']"
   ]
  },
  {
   "cell_type": "code",
   "execution_count": 216,
   "metadata": {},
   "outputs": [],
   "source": [
    "out_rows=list(zip(X_id, outs))\n",
    "out_rows = [('Id','Predicted')] + out_rows\n",
    "out_rows = [f'{t[0]},{t[1]}' for t in out_rows]\n",
    "with open(f'submissions/4.w2v+cnn.csv', 'w') as a:\n",
    "    a.write('\\n'.join(out_rows))\n",
    "a.close()"
   ]
  },
  {
   "cell_type": "markdown",
   "metadata": {},
   "source": [
    "Сабмишн всего 66%: не лучший вариант, даже хуже примитивного бейслайна. Это объяснимо, потому что применять CNN к эмбеддингам подобным образом не имеет особого смысла: между элементами внутри эмбеддинга связи нет. Что имеет смысл, это привести тексты к какой-то длине, представить их как вектора эмбеддингов и брать окна размером e.g. (5,300), чтобы захватить отношения между словами. Так и поступим, и возьмём GloVe 840B GeneralCrawl модель."
   ]
  },
  {
   "cell_type": "code",
   "execution_count": 182,
   "metadata": {},
   "outputs": [],
   "source": [
    "from gensim.scripts.glove2word2vec import glove2word2vec\n",
    "from gensim.models.keyedvectors import KeyedVectors"
   ]
  },
  {
   "cell_type": "markdown",
   "metadata": {},
   "source": [
    "glove2word2vec(glove_input_file=\"embeddings/glove.840B.300d.txt\", word2vec_output_file=\"embeddings/w2v.840B.300d.txt\")"
   ]
  },
  {
   "cell_type": "code",
   "execution_count": 183,
   "metadata": {},
   "outputs": [],
   "source": [
    "en_w2v = KeyedVectors.load_word2vec_format(\"embeddings/w2v.840B.300d.txt\", binary=False)"
   ]
  },
  {
   "cell_type": "code",
   "execution_count": 18,
   "metadata": {},
   "outputs": [],
   "source": [
    "text_lengths = [len(t.split()) for t in X_text]"
   ]
  },
  {
   "cell_type": "code",
   "execution_count": 23,
   "metadata": {},
   "outputs": [
    {
     "data": {
      "text/plain": [
       "(3, 2163)"
      ]
     },
     "execution_count": 23,
     "metadata": {},
     "output_type": "execute_result"
    }
   ],
   "source": [
    "min(text_lengths), max(text_lengths)  # минимальная и максимальная длины текстов"
   ]
  },
  {
   "cell_type": "code",
   "execution_count": 25,
   "metadata": {},
   "outputs": [
    {
     "data": {
      "text/plain": [
       "388"
      ]
     },
     "execution_count": 25,
     "metadata": {},
     "output_type": "execute_result"
    }
   ],
   "source": [
    "sum(l < 10 for l in text_lengths)"
   ]
  },
  {
   "cell_type": "code",
   "execution_count": 24,
   "metadata": {},
   "outputs": [
    {
     "data": {
      "text/plain": [
       "(35, 46.986041666666665)"
      ]
     },
     "execution_count": 24,
     "metadata": {},
     "output_type": "execute_result"
    }
   ],
   "source": [
    "sorted(text_lengths)[24000], sum(text_lengths) / 48000  # медиана и среднее "
   ]
  },
  {
   "cell_type": "markdown",
   "metadata": {},
   "source": [
    "Выбросы не так сильно воздействуют на среднее, как могло бы оказаться. Возьмём порог в 50 слов! Всё, что больше, будем обрезать, всё, что меньше - дополнять до 50 нулями."
   ]
  },
  {
   "cell_type": "code",
   "execution_count": 184,
   "metadata": {},
   "outputs": [],
   "source": [
    "def text_to_matrix(text, size=50):\n",
    "    text = text.split()\n",
    "    l = len(text)\n",
    "    if len(text) < size:\n",
    "        text = text + ['aAaA']*(size-len(text))  # aAaA is not in vocab and will thus throw KeyError\n",
    "    else:\n",
    "        text = text[:size]\n",
    "    matrix = []\n",
    "    for word in text:\n",
    "        try:\n",
    "            matrix.append(en_w2v[word])\n",
    "        except KeyError:\n",
    "            matrix.append(np.zeros(300,))\n",
    "    return np.array(matrix)"
   ]
  },
  {
   "cell_type": "code",
   "execution_count": 185,
   "metadata": {},
   "outputs": [
    {
     "data": {
      "text/plain": [
       "'many formatting falvours python disclaimer find question offtopic opinionbased toobroad fine gathering drop line comment ill take meanwhile bear second ive recently watched python tutorial author kept juggling various python string formatting expression wa struck thought many string formatting flavour python c language prinf based approach way various source cited deprecated scheduled removal abundance example standard python documentation hand c derived format way handling string finally advent ptyhon weve given formatted fstring literal known fstring also include string module seems overkill found first two aforementioned technique differ overlap depending use last least isnt opulence method contradictory one python declaration import one preferably one obvious way correct im wrong inherently unpythonic way would highly appreciate constructive thought preferably backed relevant example thanks time effort httpsstackoverflowcomquestionspythonstringformattingvsformat'"
      ]
     },
     "execution_count": 185,
     "metadata": {},
     "output_type": "execute_result"
    }
   ],
   "source": [
    "X_text[510]"
   ]
  },
  {
   "cell_type": "code",
   "execution_count": 186,
   "metadata": {},
   "outputs": [
    {
     "data": {
      "text/plain": [
       "(124, 22)"
      ]
     },
     "execution_count": 186,
     "metadata": {},
     "output_type": "execute_result"
    }
   ],
   "source": [
    "len(X_text[510].split()), len(X_text[511].split())"
   ]
  },
  {
   "cell_type": "code",
   "execution_count": 187,
   "metadata": {},
   "outputs": [
    {
     "data": {
      "text/plain": [
       "((50, 300), (50, 300))"
      ]
     },
     "execution_count": 187,
     "metadata": {},
     "output_type": "execute_result"
    }
   ],
   "source": [
    "text_to_matrix(X_text[510]).shape, text_to_matrix(X_text[511]).shape"
   ]
  },
  {
   "cell_type": "code",
   "execution_count": 188,
   "metadata": {},
   "outputs": [
    {
     "name": "stderr",
     "output_type": "stream",
     "text": [
      "100%|██████████| 48000/48000 [00:24<00:00, 1936.06it/s]\n"
     ]
    }
   ],
   "source": [
    "X = np.array([normalize(text_to_matrix(text)) for text in tqdm(X_text)]).reshape(48000, 300, 50, 1)"
   ]
  },
  {
   "cell_type": "code",
   "execution_count": 189,
   "metadata": {},
   "outputs": [
    {
     "data": {
      "text/plain": [
       "(48000, 300, 50, 1)"
      ]
     },
     "execution_count": 189,
     "metadata": {},
     "output_type": "execute_result"
    }
   ],
   "source": [
    "X.shape"
   ]
  },
  {
   "cell_type": "code",
   "execution_count": 190,
   "metadata": {},
   "outputs": [],
   "source": [
    "np.save('data/X_train_vectors.npy', X)"
   ]
  },
  {
   "cell_type": "code",
   "execution_count": 191,
   "metadata": {},
   "outputs": [
    {
     "name": "stderr",
     "output_type": "stream",
     "text": [
      "100%|██████████| 12000/12000 [00:02<00:00, 4597.54it/s]\n"
     ]
    }
   ],
   "source": [
    "X_test_vecs = np.array([normalize(text_to_matrix(text)) for text in tqdm(test['text'])]).reshape(12000, 300, 50, 1)"
   ]
  },
  {
   "cell_type": "code",
   "execution_count": 192,
   "metadata": {},
   "outputs": [],
   "source": [
    "np.save('data/X_test_vectors.npy', X_test_vecs)"
   ]
  },
  {
   "cell_type": "code",
   "execution_count": 193,
   "metadata": {},
   "outputs": [],
   "source": [
    "X_train, X_dev, X_test, y_train, y_dev, y_test = train_dev_test(X, y)"
   ]
  },
  {
   "cell_type": "markdown",
   "metadata": {},
   "source": [
    "Построим 2D сеть."
   ]
  },
  {
   "cell_type": "code",
   "execution_count": 197,
   "metadata": {},
   "outputs": [],
   "source": [
    "from tensorflow.keras.layers import Flatten, Conv2D, MaxPooling2D"
   ]
  },
  {
   "cell_type": "code",
   "execution_count": 198,
   "metadata": {},
   "outputs": [],
   "source": [
    "def build_2d_cnn(emb_size=300, text_size=50, dropout_rate=0.2, num_classes=3):\n",
    "    word_input = Input(shape=(emb_size, text_size, 1))\n",
    "    conv1 = Conv2D(filters=3, kernel_size=(7, 7), activation='relu')(word_input)\n",
    "    conv1 = MaxPooling2D(pool_size=(1,3), strides=None, padding='same')(conv1)\n",
    "    conv1 = BatchNormalization(trainable=True)(conv1)\n",
    "    conv2 = Conv2D(filters=5, kernel_size=(3, 3), activation='relu')(conv1)\n",
    "    conv2 = MaxPooling2D(pool_size=(1,3), strides=None, padding='same')(conv2)\n",
    "    conv2 = BatchNormalization(trainable=True)(conv2)\n",
    "    conv3 = Flatten()(conv2)\n",
    "    z1 = Dense(256, activation='relu')(conv3)\n",
    "    z1 = BatchNormalization(trainable=True)(z1)\n",
    "    z1 = Dropout(dropout_rate)(z1)\n",
    "    z2 = Dense(128, activation='relu')(z1)\n",
    "    z2 = BatchNormalization(trainable=True)(z2)\n",
    "    z2 = Dropout(dropout_rate)(z2)\n",
    "    y = Dense(num_classes, activation='softmax')(z2)\n",
    "    model = Model(inputs=word_input, outputs=y)\n",
    "    return model"
   ]
  },
  {
   "cell_type": "markdown",
   "metadata": {},
   "source": [
    "Я бы рад сделать хорошую сложную архитектуру, но у меня нет в распоряжении офигенного кластера, у ноутбука нет гпу (хотя оперативной памяти выше крыши), а от всего что сложнее колаб отваливается с истерическими воплями, даже если всё предобрабатывать у себя и загружать на диск исключительно npy, так что сорян, и там и здесь работать невозможно"
   ]
  },
  {
   "cell_type": "code",
   "execution_count": 199,
   "metadata": {},
   "outputs": [],
   "source": [
    "cnn_2d = build_2d_cnn()"
   ]
  },
  {
   "cell_type": "code",
   "execution_count": 200,
   "metadata": {},
   "outputs": [],
   "source": [
    "mc = ModelCheckpoint('checkpoints/best_2d_cnn.h5', monitor='val_loss', mode='auto', save_best_only=True)\n",
    "earlystop = EarlyStopping(monitor='val_loss', patience=3)"
   ]
  },
  {
   "cell_type": "code",
   "execution_count": 201,
   "metadata": {},
   "outputs": [
    {
     "name": "stdout",
     "output_type": "stream",
     "text": [
      "Model: \"model_12\"\n",
      "_________________________________________________________________\n",
      "Layer (type)                 Output Shape              Param #   \n",
      "=================================================================\n",
      "input_21 (InputLayer)        [(None, 300, 50, 1)]      0         \n",
      "_________________________________________________________________\n",
      "conv2d_36 (Conv2D)           (None, 294, 44, 3)        150       \n",
      "_________________________________________________________________\n",
      "max_pooling2d_31 (MaxPooling (None, 294, 15, 3)        0         \n",
      "_________________________________________________________________\n",
      "batch_normalization_52 (Batc (None, 294, 15, 3)        12        \n",
      "_________________________________________________________________\n",
      "conv2d_37 (Conv2D)           (None, 292, 13, 5)        140       \n",
      "_________________________________________________________________\n",
      "max_pooling2d_32 (MaxPooling (None, 292, 5, 5)         0         \n",
      "_________________________________________________________________\n",
      "batch_normalization_53 (Batc (None, 292, 5, 5)         20        \n",
      "_________________________________________________________________\n",
      "flatten_12 (Flatten)         (None, 7300)              0         \n",
      "_________________________________________________________________\n",
      "dense_36 (Dense)             (None, 256)               1869056   \n",
      "_________________________________________________________________\n",
      "batch_normalization_54 (Batc (None, 256)               1024      \n",
      "_________________________________________________________________\n",
      "dropout_24 (Dropout)         (None, 256)               0         \n",
      "_________________________________________________________________\n",
      "dense_37 (Dense)             (None, 128)               32896     \n",
      "_________________________________________________________________\n",
      "batch_normalization_55 (Batc (None, 128)               512       \n",
      "_________________________________________________________________\n",
      "dropout_25 (Dropout)         (None, 128)               0         \n",
      "_________________________________________________________________\n",
      "dense_38 (Dense)             (None, 3)                 387       \n",
      "=================================================================\n",
      "Total params: 1,904,197\n",
      "Trainable params: 1,903,413\n",
      "Non-trainable params: 784\n",
      "_________________________________________________________________\n",
      "None\n"
     ]
    }
   ],
   "source": [
    "cnn_2d.compile(loss='sparse_categorical_crossentropy',\n",
    "            optimizer='adam',\n",
    "            metrics=['acc'])\n",
    "print(cnn_2d.summary())"
   ]
  },
  {
   "cell_type": "code",
   "execution_count": 202,
   "metadata": {},
   "outputs": [],
   "source": [
    "batch_size=512\n",
    "epochs=100"
   ]
  },
  {
   "cell_type": "code",
   "execution_count": 203,
   "metadata": {},
   "outputs": [
    {
     "name": "stdout",
     "output_type": "stream",
     "text": [
      "Train on 43200 samples, validate on 2400 samples\n",
      "Epoch 1/100\n",
      "43200/43200 [==============================] - 167s 4ms/sample - loss: 0.9868 - acc: 0.5729 - val_loss: 1.8099 - val_acc: 0.3300\n",
      "Epoch 2/100\n",
      "43200/43200 [==============================] - 167s 4ms/sample - loss: 0.7373 - acc: 0.6804 - val_loss: 2.2795 - val_acc: 0.3300\n",
      "Epoch 3/100\n",
      "43200/43200 [==============================] - 171s 4ms/sample - loss: 0.6264 - acc: 0.7349 - val_loss: 2.8954 - val_acc: 0.3300\n",
      "Epoch 4/100\n",
      "43200/43200 [==============================] - 173s 4ms/sample - loss: 0.5167 - acc: 0.7846 - val_loss: 1.7405 - val_acc: 0.3304\n",
      "Epoch 5/100\n",
      "43200/43200 [==============================] - 175s 4ms/sample - loss: 0.4095 - acc: 0.8358 - val_loss: 2.1198 - val_acc: 0.3300\n",
      "Epoch 6/100\n",
      "43200/43200 [==============================] - 176s 4ms/sample - loss: 0.3163 - acc: 0.8755 - val_loss: 2.0854 - val_acc: 0.3504\n",
      "Epoch 7/100\n",
      "43200/43200 [==============================] - 174s 4ms/sample - loss: 0.2456 - acc: 0.9057 - val_loss: 2.0238 - val_acc: 0.4142\n"
     ]
    }
   ],
   "source": [
    "history=cnn_2d.fit(X_train, y_train,\n",
    "        batch_size=batch_size,\n",
    "        epochs=epochs,\n",
    "        callbacks = [mc, earlystop],\n",
    "        verbose=1,\n",
    "        validation_data=(X_dev, y_dev))"
   ]
  },
  {
   "cell_type": "code",
   "execution_count": 119,
   "metadata": {},
   "outputs": [
    {
     "data": {
      "image/png": "[encoded data removed]",
      "text/plain": [
       "<Figure size 432x288 with 1 Axes>"
      ]
     },
     "metadata": {
      "needs_background": "light"
     },
     "output_type": "display_data"
    }
   ],
   "source": [
    "plot_train_acc(history)"
   ]
  },
  {
   "cell_type": "code",
   "execution_count": 120,
   "metadata": {},
   "outputs": [
    {
     "data": {
      "image/png": "[encoded data removed]",
      "text/plain": [
       "<Figure size 432x288 with 1 Axes>"
      ]
     },
     "metadata": {
      "needs_background": "light"
     },
     "output_type": "display_data"
    }
   ],
   "source": [
    "plot_train_loss(history)"
   ]
  },
  {
   "cell_type": "markdown",
   "metadata": {},
   "source": [
    "### LSTM"
   ]
  },
  {
   "cell_type": "markdown",
   "metadata": {},
   "source": [
    "В общем, для данной задачи CNN делает мало смысла, жрёт много памяти, вышибает Google Colab и вынуждает рвать волосы на копчике. А что насчёт LSTM, который естественно подходит для задачи обработки текста? Давайте проверим, почему бы и нет!"
   ]
  },
  {
   "cell_type": "code",
   "execution_count": 1,
   "metadata": {},
   "outputs": [
    {
     "name": "stderr",
     "output_type": "stream",
     "text": [
      "/home/pythonimous/venv/data-science/lib/python3.6/site-packages/tensorflow/python/framework/dtypes.py:516: FutureWarning: Passing (type, 1) or '1type' as a synonym of type is deprecated; in a future version of numpy, it will be understood as (type, (1,)) / '(1,)type'.\n",
      "  _np_qint8 = np.dtype([(\"qint8\", np.int8, 1)])\n",
      "/home/pythonimous/venv/data-science/lib/python3.6/site-packages/tensorflow/python/framework/dtypes.py:517: FutureWarning: Passing (type, 1) or '1type' as a synonym of type is deprecated; in a future version of numpy, it will be understood as (type, (1,)) / '(1,)type'.\n",
      "  _np_quint8 = np.dtype([(\"quint8\", np.uint8, 1)])\n",
      "/home/pythonimous/venv/data-science/lib/python3.6/site-packages/tensorflow/python/framework/dtypes.py:518: FutureWarning: Passing (type, 1) or '1type' as a synonym of type is deprecated; in a future version of numpy, it will be understood as (type, (1,)) / '(1,)type'.\n",
      "  _np_qint16 = np.dtype([(\"qint16\", np.int16, 1)])\n",
      "/home/pythonimous/venv/data-science/lib/python3.6/site-packages/tensorflow/python/framework/dtypes.py:519: FutureWarning: Passing (type, 1) or '1type' as a synonym of type is deprecated; in a future version of numpy, it will be understood as (type, (1,)) / '(1,)type'.\n",
      "  _np_quint16 = np.dtype([(\"quint16\", np.uint16, 1)])\n",
      "/home/pythonimous/venv/data-science/lib/python3.6/site-packages/tensorflow/python/framework/dtypes.py:520: FutureWarning: Passing (type, 1) or '1type' as a synonym of type is deprecated; in a future version of numpy, it will be understood as (type, (1,)) / '(1,)type'.\n",
      "  _np_qint32 = np.dtype([(\"qint32\", np.int32, 1)])\n",
      "/home/pythonimous/venv/data-science/lib/python3.6/site-packages/tensorflow/python/framework/dtypes.py:525: FutureWarning: Passing (type, 1) or '1type' as a synonym of type is deprecated; in a future version of numpy, it will be understood as (type, (1,)) / '(1,)type'.\n",
      "  np_resource = np.dtype([(\"resource\", np.ubyte, 1)])\n",
      "/home/pythonimous/venv/data-science/lib/python3.6/site-packages/tensorboard/compat/tensorflow_stub/dtypes.py:541: FutureWarning: Passing (type, 1) or '1type' as a synonym of type is deprecated; in a future version of numpy, it will be understood as (type, (1,)) / '(1,)type'.\n",
      "  _np_qint8 = np.dtype([(\"qint8\", np.int8, 1)])\n",
      "/home/pythonimous/venv/data-science/lib/python3.6/site-packages/tensorboard/compat/tensorflow_stub/dtypes.py:542: FutureWarning: Passing (type, 1) or '1type' as a synonym of type is deprecated; in a future version of numpy, it will be understood as (type, (1,)) / '(1,)type'.\n",
      "  _np_quint8 = np.dtype([(\"quint8\", np.uint8, 1)])\n",
      "/home/pythonimous/venv/data-science/lib/python3.6/site-packages/tensorboard/compat/tensorflow_stub/dtypes.py:543: FutureWarning: Passing (type, 1) or '1type' as a synonym of type is deprecated; in a future version of numpy, it will be understood as (type, (1,)) / '(1,)type'.\n",
      "  _np_qint16 = np.dtype([(\"qint16\", np.int16, 1)])\n",
      "/home/pythonimous/venv/data-science/lib/python3.6/site-packages/tensorboard/compat/tensorflow_stub/dtypes.py:544: FutureWarning: Passing (type, 1) or '1type' as a synonym of type is deprecated; in a future version of numpy, it will be understood as (type, (1,)) / '(1,)type'.\n",
      "  _np_quint16 = np.dtype([(\"quint16\", np.uint16, 1)])\n",
      "/home/pythonimous/venv/data-science/lib/python3.6/site-packages/tensorboard/compat/tensorflow_stub/dtypes.py:545: FutureWarning: Passing (type, 1) or '1type' as a synonym of type is deprecated; in a future version of numpy, it will be understood as (type, (1,)) / '(1,)type'.\n",
      "  _np_qint32 = np.dtype([(\"qint32\", np.int32, 1)])\n",
      "/home/pythonimous/venv/data-science/lib/python3.6/site-packages/tensorboard/compat/tensorflow_stub/dtypes.py:550: FutureWarning: Passing (type, 1) or '1type' as a synonym of type is deprecated; in a future version of numpy, it will be understood as (type, (1,)) / '(1,)type'.\n",
      "  np_resource = np.dtype([(\"resource\", np.ubyte, 1)])\n"
     ]
    }
   ],
   "source": [
    "import tensorflow as tf\n",
    "import numpy as np"
   ]
  },
  {
   "cell_type": "code",
   "execution_count": 2,
   "metadata": {},
   "outputs": [],
   "source": [
    "import pandas as pd\n",
    "from tqdm import tqdm"
   ]
  },
  {
   "cell_type": "code",
   "execution_count": 3,
   "metadata": {},
   "outputs": [],
   "source": [
    "from sklearn.preprocessing import normalize\n",
    "from utils import train_dev_test, plot_train_acc, plot_train_loss, classifier_out"
   ]
  },
  {
   "cell_type": "code",
   "execution_count": 4,
   "metadata": {},
   "outputs": [],
   "source": [
    "train = pd.read_csv('data/train_texts.csv')\n",
    "test = pd.read_csv('data/test_texts.csv')"
   ]
  },
  {
   "cell_type": "code",
   "execution_count": 5,
   "metadata": {},
   "outputs": [],
   "source": [
    "# Сколько максимум слов из словаря нам юзать\n",
    "MAX_NB_WORDS = 50000\n",
    "# Ограничимся 250 словами\n",
    "MAX_SEQUENCE_LENGTH = 250\n",
    "# Пусть размерность эмбеддинга будет 100\n",
    "EMBEDDING_DIM = 100"
   ]
  },
  {
   "cell_type": "code",
   "execution_count": 6,
   "metadata": {},
   "outputs": [],
   "source": [
    "from tensorflow.keras.preprocessing.text import Tokenizer\n",
    "from tensorflow.keras.preprocessing.sequence import pad_sequences"
   ]
  },
  {
   "cell_type": "code",
   "execution_count": 7,
   "metadata": {},
   "outputs": [],
   "source": [
    "tokenizer = Tokenizer(num_words=MAX_NB_WORDS, lower=True)"
   ]
  },
  {
   "cell_type": "code",
   "execution_count": 8,
   "metadata": {},
   "outputs": [
    {
     "name": "stdout",
     "output_type": "stream",
     "text": [
      "Found 167409 unique tokens.\n"
     ]
    }
   ],
   "source": [
    "tokenizer.fit_on_texts(train['text'].values)\n",
    "word_index = tokenizer.word_index\n",
    "print('Found %s unique tokens.' % len(word_index))"
   ]
  },
  {
   "cell_type": "code",
   "execution_count": 9,
   "metadata": {},
   "outputs": [
    {
     "name": "stdout",
     "output_type": "stream",
     "text": [
      "Shape of data tensor: (48000, 250)\n"
     ]
    }
   ],
   "source": [
    "X = tokenizer.texts_to_sequences(train['text'].values)\n",
    "X = pad_sequences(X, maxlen=MAX_SEQUENCE_LENGTH)\n",
    "print('Shape of data tensor:', X.shape)"
   ]
  },
  {
   "cell_type": "code",
   "execution_count": 10,
   "metadata": {},
   "outputs": [],
   "source": [
    "y = train['class']"
   ]
  },
  {
   "cell_type": "code",
   "execution_count": 11,
   "metadata": {},
   "outputs": [],
   "source": [
    "X_train, X_dev, X_test, y_train, y_dev, y_test = train_dev_test(X, y)"
   ]
  },
  {
   "cell_type": "code",
   "execution_count": 36,
   "metadata": {},
   "outputs": [],
   "source": [
    "from tensorflow.keras import Sequential\n",
    "from tensorflow.keras.layers import Embedding, SpatialDropout1D, Bidirectional, LSTM, Dense, Dropout, BatchNormalization\n",
    "from tensorflow.keras.callbacks import EarlyStopping, ModelCheckpoint"
   ]
  },
  {
   "cell_type": "code",
   "execution_count": 37,
   "metadata": {},
   "outputs": [],
   "source": [
    "model = Sequential()\n",
    "model.add(Embedding(MAX_NB_WORDS, EMBEDDING_DIM, input_length=X.shape[1]))\n",
    "model.add(SpatialDropout1D(0.2))\n",
    "model.add(BatchNormalization())\n",
    "model.add(Bidirectional(LSTM(units=128 , return_sequences = True , recurrent_dropout = 0.4 , dropout = 0.4)))\n",
    "model.add(Bidirectional(LSTM(units=128 , recurrent_dropout = 0.2 , dropout = 0.2)))\n",
    "model.add(Dense(3, activation='softmax'))"
   ]
  },
  {
   "cell_type": "code",
   "execution_count": 38,
   "metadata": {},
   "outputs": [
    {
     "name": "stdout",
     "output_type": "stream",
     "text": [
      "Model: \"sequential_5\"\n",
      "_________________________________________________________________\n",
      "Layer (type)                 Output Shape              Param #   \n",
      "=================================================================\n",
      "embedding_5 (Embedding)      (None, 250, 100)          5000000   \n",
      "_________________________________________________________________\n",
      "spatial_dropout1d_5 (Spatial (None, 250, 100)          0         \n",
      "_________________________________________________________________\n",
      "batch_normalization_4 (Batch (None, 250, 100)          400       \n",
      "_________________________________________________________________\n",
      "bidirectional_5 (Bidirection (None, 250, 256)          234496    \n",
      "_________________________________________________________________\n",
      "bidirectional_6 (Bidirection (None, 256)               394240    \n",
      "_________________________________________________________________\n",
      "dense_6 (Dense)              (None, 3)                 771       \n",
      "=================================================================\n",
      "Total params: 5,629,907\n",
      "Trainable params: 5,629,707\n",
      "Non-trainable params: 200\n",
      "_________________________________________________________________\n"
     ]
    }
   ],
   "source": [
    "model.compile(loss='sparse_categorical_crossentropy', optimizer='adam', metrics=['accuracy'])\n",
    "model.summary()"
   ]
  },
  {
   "cell_type": "code",
   "execution_count": 39,
   "metadata": {},
   "outputs": [],
   "source": [
    "epochs = 100\n",
    "#epochs = 3\n",
    "batch_size = 512"
   ]
  },
  {
   "cell_type": "code",
   "execution_count": 40,
   "metadata": {},
   "outputs": [],
   "source": [
    "mc = ModelCheckpoint('checkpoints/best_lstm.h5', monitor='val_loss', mode='auto', save_best_only=True)\n",
    "earlystop = EarlyStopping(monitor='val_loss', patience=3, min_delta=0.0001)"
   ]
  },
  {
   "cell_type": "code",
   "execution_count": 41,
   "metadata": {},
   "outputs": [
    {
     "name": "stdout",
     "output_type": "stream",
     "text": [
      "Train on 43200 samples, validate on 2400 samples\n",
      "Epoch 1/100\n",
      "32256/43200 [=====================>........] - ETA: 2:22 - loss: 0.9011 - acc: 0.5600"
     ]
    },
    {
     "ename": "KeyboardInterrupt",
     "evalue": "",
     "output_type": "error",
     "traceback": [
      "\u001b[0;31m---------------------------------------------------------------------------\u001b[0m",
      "\u001b[0;31mKeyboardInterrupt\u001b[0m                         Traceback (most recent call last)",
      "\u001b[0;32m<ipython-input-41-b93e97adba2c>\u001b[0m in \u001b[0;36m<module>\u001b[0;34m\u001b[0m\n\u001b[1;32m      3\u001b[0m                     \u001b[0mbatch_size\u001b[0m\u001b[0;34m=\u001b[0m\u001b[0mbatch_size\u001b[0m\u001b[0;34m,\u001b[0m\u001b[0;34m\u001b[0m\u001b[0;34m\u001b[0m\u001b[0m\n\u001b[1;32m      4\u001b[0m                     \u001b[0mcallbacks\u001b[0m\u001b[0;34m=\u001b[0m\u001b[0;34m[\u001b[0m\u001b[0mmc\u001b[0m\u001b[0;34m,\u001b[0m \u001b[0mearlystop\u001b[0m\u001b[0;34m]\u001b[0m\u001b[0;34m,\u001b[0m\u001b[0;34m\u001b[0m\u001b[0;34m\u001b[0m\u001b[0m\n\u001b[0;32m----> 5\u001b[0;31m                     validation_data=(X_dev, y_dev))\n\u001b[0m",
      "\u001b[0;32m~/venv/data-science/lib/python3.6/site-packages/tensorflow/python/keras/engine/training.py\u001b[0m in \u001b[0;36mfit\u001b[0;34m(self, x, y, batch_size, epochs, verbose, callbacks, validation_split, validation_data, shuffle, class_weight, sample_weight, initial_epoch, steps_per_epoch, validation_steps, validation_freq, max_queue_size, workers, use_multiprocessing, **kwargs)\u001b[0m\n\u001b[1;32m    778\u001b[0m           \u001b[0mvalidation_steps\u001b[0m\u001b[0;34m=\u001b[0m\u001b[0mvalidation_steps\u001b[0m\u001b[0;34m,\u001b[0m\u001b[0;34m\u001b[0m\u001b[0;34m\u001b[0m\u001b[0m\n\u001b[1;32m    779\u001b[0m           \u001b[0mvalidation_freq\u001b[0m\u001b[0;34m=\u001b[0m\u001b[0mvalidation_freq\u001b[0m\u001b[0;34m,\u001b[0m\u001b[0;34m\u001b[0m\u001b[0;34m\u001b[0m\u001b[0m\n\u001b[0;32m--> 780\u001b[0;31m           steps_name='steps_per_epoch')\n\u001b[0m\u001b[1;32m    781\u001b[0m \u001b[0;34m\u001b[0m\u001b[0m\n\u001b[1;32m    782\u001b[0m   def evaluate(self,\n",
      "\u001b[0;32m~/venv/data-science/lib/python3.6/site-packages/tensorflow/python/keras/engine/training_arrays.py\u001b[0m in \u001b[0;36mmodel_iteration\u001b[0;34m(model, inputs, targets, sample_weights, batch_size, epochs, verbose, callbacks, val_inputs, val_targets, val_sample_weights, shuffle, initial_epoch, steps_per_epoch, validation_steps, validation_freq, mode, validation_in_fit, prepared_feed_values_from_dataset, steps_name, **kwargs)\u001b[0m\n\u001b[1;32m    361\u001b[0m \u001b[0;34m\u001b[0m\u001b[0m\n\u001b[1;32m    362\u001b[0m         \u001b[0;31m# Get outputs.\u001b[0m\u001b[0;34m\u001b[0m\u001b[0;34m\u001b[0m\u001b[0;34m\u001b[0m\u001b[0m\n\u001b[0;32m--> 363\u001b[0;31m         \u001b[0mbatch_outs\u001b[0m \u001b[0;34m=\u001b[0m \u001b[0mf\u001b[0m\u001b[0;34m(\u001b[0m\u001b[0mins_batch\u001b[0m\u001b[0;34m)\u001b[0m\u001b[0;34m\u001b[0m\u001b[0;34m\u001b[0m\u001b[0m\n\u001b[0m\u001b[1;32m    364\u001b[0m         \u001b[0;32mif\u001b[0m \u001b[0;32mnot\u001b[0m \u001b[0misinstance\u001b[0m\u001b[0;34m(\u001b[0m\u001b[0mbatch_outs\u001b[0m\u001b[0;34m,\u001b[0m \u001b[0mlist\u001b[0m\u001b[0;34m)\u001b[0m\u001b[0;34m:\u001b[0m\u001b[0;34m\u001b[0m\u001b[0;34m\u001b[0m\u001b[0m\n\u001b[1;32m    365\u001b[0m           \u001b[0mbatch_outs\u001b[0m \u001b[0;34m=\u001b[0m \u001b[0;34m[\u001b[0m\u001b[0mbatch_outs\u001b[0m\u001b[0;34m]\u001b[0m\u001b[0;34m\u001b[0m\u001b[0;34m\u001b[0m\u001b[0m\n",
      "\u001b[0;32m~/venv/data-science/lib/python3.6/site-packages/tensorflow/python/keras/backend.py\u001b[0m in \u001b[0;36m__call__\u001b[0;34m(self, inputs)\u001b[0m\n\u001b[1;32m   3290\u001b[0m \u001b[0;34m\u001b[0m\u001b[0m\n\u001b[1;32m   3291\u001b[0m     fetched = self._callable_fn(*array_vals,\n\u001b[0;32m-> 3292\u001b[0;31m                                 run_metadata=self.run_metadata)\n\u001b[0m\u001b[1;32m   3293\u001b[0m     \u001b[0mself\u001b[0m\u001b[0;34m.\u001b[0m\u001b[0m_call_fetch_callbacks\u001b[0m\u001b[0;34m(\u001b[0m\u001b[0mfetched\u001b[0m\u001b[0;34m[\u001b[0m\u001b[0;34m-\u001b[0m\u001b[0mlen\u001b[0m\u001b[0;34m(\u001b[0m\u001b[0mself\u001b[0m\u001b[0;34m.\u001b[0m\u001b[0m_fetches\u001b[0m\u001b[0;34m)\u001b[0m\u001b[0;34m:\u001b[0m\u001b[0;34m]\u001b[0m\u001b[0;34m)\u001b[0m\u001b[0;34m\u001b[0m\u001b[0;34m\u001b[0m\u001b[0m\n\u001b[1;32m   3294\u001b[0m     output_structure = nest.pack_sequence_as(\n",
      "\u001b[0;32m~/venv/data-science/lib/python3.6/site-packages/tensorflow/python/client/session.py\u001b[0m in \u001b[0;36m__call__\u001b[0;34m(self, *args, **kwargs)\u001b[0m\n\u001b[1;32m   1456\u001b[0m         ret = tf_session.TF_SessionRunCallable(self._session._session,\n\u001b[1;32m   1457\u001b[0m                                                \u001b[0mself\u001b[0m\u001b[0;34m.\u001b[0m\u001b[0m_handle\u001b[0m\u001b[0;34m,\u001b[0m \u001b[0margs\u001b[0m\u001b[0;34m,\u001b[0m\u001b[0;34m\u001b[0m\u001b[0;34m\u001b[0m\u001b[0m\n\u001b[0;32m-> 1458\u001b[0;31m                                                run_metadata_ptr)\n\u001b[0m\u001b[1;32m   1459\u001b[0m         \u001b[0;32mif\u001b[0m \u001b[0mrun_metadata\u001b[0m\u001b[0;34m:\u001b[0m\u001b[0;34m\u001b[0m\u001b[0;34m\u001b[0m\u001b[0m\n\u001b[1;32m   1460\u001b[0m           \u001b[0mproto_data\u001b[0m \u001b[0;34m=\u001b[0m \u001b[0mtf_session\u001b[0m\u001b[0;34m.\u001b[0m\u001b[0mTF_GetBuffer\u001b[0m\u001b[0;34m(\u001b[0m\u001b[0mrun_metadata_ptr\u001b[0m\u001b[0;34m)\u001b[0m\u001b[0;34m\u001b[0m\u001b[0;34m\u001b[0m\u001b[0m\n",
      "\u001b[0;31mKeyboardInterrupt\u001b[0m: "
     ]
    }
   ],
   "source": [
    "history = model.fit(X_train, y_train,\n",
    "                    epochs=epochs,\n",
    "                    batch_size=batch_size,\n",
    "                    callbacks=[mc, earlystop],\n",
    "                    validation_data=(X_dev, y_dev))"
   ]
  },
  {
   "cell_type": "code",
   "execution_count": 26,
   "metadata": {},
   "outputs": [
    {
     "name": "stdout",
     "output_type": "stream",
     "text": [
      "2400/2400 [==============================] - 3s 1ms/sample - loss: 0.6578 - acc: 0.7471\n",
      "Test set\n",
      "  Loss: 0.658\n",
      "  Accuracy: 0.747\n"
     ]
    }
   ],
   "source": [
    "accr = model.evaluate(X_test, y_test)\n",
    "print('Test set\\n  Loss: {:0.3f}\\n  Accuracy: {:0.3f}'.format(accr[0],accr[1]))"
   ]
  },
  {
   "cell_type": "markdown",
   "metadata": {},
   "source": [
    "**Примечание в ретроспективе**: прервал потому что производил обучение (на той же архитектуре) в Google Colab и там в общем-то было быстрее. Резы действительно получились такие, и это первая модель, которая вселила в меня надежду в светлое будущее."
   ]
  },
  {
   "cell_type": "markdown",
   "metadata": {},
   "source": [
    "Даже на простейшей LSTMке резы уже лучше, чем они были бы у CNN (у сабмишна 0.742!) Её и будем тюнить, используя при этом дополнительные фичи."
   ]
  },
  {
   "cell_type": "code",
   "execution_count": 27,
   "metadata": {},
   "outputs": [
    {
     "data": {
      "image/png": "[encoded data removed]",
      "text/plain": [
       "<Figure size 432x288 with 1 Axes>"
      ]
     },
     "metadata": {
      "needs_background": "light"
     },
     "output_type": "display_data"
    }
   ],
   "source": [
    "plot_train_acc(history)"
   ]
  },
  {
   "cell_type": "code",
   "execution_count": 28,
   "metadata": {},
   "outputs": [
    {
     "data": {
      "image/png": "[encoded data removed]",
      "text/plain": [
       "<Figure size 432x288 with 1 Axes>"
      ]
     },
     "metadata": {
      "needs_background": "light"
     },
     "output_type": "display_data"
    }
   ],
   "source": [
    "plot_train_loss(history)"
   ]
  },
  {
   "cell_type": "markdown",
   "metadata": {},
   "source": [
    "**В ретроспективе**: на этом этапе я ещё раз проверил, какие резы на этой задаче (в её нормальной версии) у других людей и как предобрабатывают они. Я решил сказать \"а, в задницу всё\" и просто тупо, без человеческих способов предобработки типа удаления разметки, попробовать проделать точно так же и посмотреть, что получится."
   ]
  },
  {
   "cell_type": "code",
   "execution_count": 1,
   "metadata": {},
   "outputs": [],
   "source": [
    "import os\n",
    "import random\n",
    "import re\n",
    "import time\n",
    "\n",
    "import numpy as np\n",
    "import pandas as pd\n",
    "import plotly.express as px\n",
    "\n",
    "from sklearn.feature_extraction.text import CountVectorizer\n",
    "from sklearn.feature_extraction.text import TfidfTransformer\n",
    "\n",
    "from sklearn.naive_bayes import MultinomialNB\n",
    "from sklearn.ensemble import RandomForestClassifier, GradientBoostingClassifier\n",
    "from sklearn.linear_model import LogisticRegression, SGDClassifier, Perceptron, RidgeClassifier\n",
    "from sklearn.neural_network import MLPClassifier\n",
    "from sklearn.svm import LinearSVC\n",
    "from sklearn.tree import DecisionTreeClassifier "
   ]
  },
  {
   "cell_type": "code",
   "execution_count": 2,
   "metadata": {},
   "outputs": [],
   "source": [
    "train = pd.read_parquet('data/train.parquet')\n",
    "test = pd.read_parquet('data/test.parquet')"
   ]
  },
  {
   "cell_type": "code",
   "execution_count": 3,
   "metadata": {},
   "outputs": [
    {
     "data": {
      "text/html": [
       "<div>\n",
       "<style scoped>\n",
       "    .dataframe tbody tr th:only-of-type {\n",
       "        vertical-align: middle;\n",
       "    }\n",
       "\n",
       "    .dataframe tbody tr th {\n",
       "        vertical-align: top;\n",
       "    }\n",
       "\n",
       "    .dataframe thead th {\n",
       "        text-align: right;\n",
       "    }\n",
       "</style>\n",
       "<table border=\"1\" class=\"dataframe\">\n",
       "  <thead>\n",
       "    <tr style=\"text-align: right;\">\n",
       "      <th></th>\n",
       "      <th>Body</th>\n",
       "      <th>Tags</th>\n",
       "      <th>Title</th>\n",
       "      <th>target</th>\n",
       "    </tr>\n",
       "    <tr>\n",
       "      <th>Id</th>\n",
       "      <th></th>\n",
       "      <th></th>\n",
       "      <th></th>\n",
       "      <th></th>\n",
       "    </tr>\n",
       "  </thead>\n",
       "  <tbody>\n",
       "    <tr>\n",
       "      <th>34862324</th>\n",
       "      <td>Algorithmm:\\r\\n\\r\\n**input :** Graph G\\r\\n\\r\\n...</td>\n",
       "      <td>&lt;java&gt;&lt;algorithm&gt;&lt;graph-algorithm&gt;</td>\n",
       "      <td>I am implementing a Minimum Spanning Forrest a...</td>\n",
       "      <td>2</td>\n",
       "    </tr>\n",
       "    <tr>\n",
       "      <th>47303682</th>\n",
       "      <td>While converting the data frame to HTML, Date ...</td>\n",
       "      <td>&lt;html&gt;&lt;r&gt;&lt;dataframe&gt;</td>\n",
       "      <td>R Studio: Date is getting converted to number,...</td>\n",
       "      <td>2</td>\n",
       "    </tr>\n",
       "    <tr>\n",
       "      <th>46431243</th>\n",
       "      <td>&lt;p&gt;This should be an easy one, but somehow I c...</td>\n",
       "      <td>&lt;python&gt;&lt;pandas&gt;&lt;dataframe&gt;&lt;pandas-groupby&gt;</td>\n",
       "      <td>Pandas - dataframe groupby - how to get sum of...</td>\n",
       "      <td>0</td>\n",
       "    </tr>\n",
       "    <tr>\n",
       "      <th>45306324</th>\n",
       "      <td>&lt;p&gt;Let say I have a component in Angular 2 tha...</td>\n",
       "      <td>&lt;angular&gt;&lt;typescript&gt;&lt;rxjs&gt;</td>\n",
       "      <td>Casting results from Observable.forkJoin to th...</td>\n",
       "      <td>0</td>\n",
       "    </tr>\n",
       "    <tr>\n",
       "      <th>49479547</th>\n",
       "      <td>&lt;p&gt;I'm setting a var using \\n&lt;code&gt;set TEST_VA...</td>\n",
       "      <td>&lt;c&gt;&lt;windows&gt;&lt;batch-file&gt;</td>\n",
       "      <td>Environment variable set in batch file cannot ...</td>\n",
       "      <td>1</td>\n",
       "    </tr>\n",
       "  </tbody>\n",
       "</table>\n",
       "</div>"
      ],
      "text/plain": [
       "                                                       Body  \\\n",
       "Id                                                            \n",
       "34862324  Algorithmm:\\r\\n\\r\\n**input :** Graph G\\r\\n\\r\\n...   \n",
       "47303682  While converting the data frame to HTML, Date ...   \n",
       "46431243  <p>This should be an easy one, but somehow I c...   \n",
       "45306324  <p>Let say I have a component in Angular 2 tha...   \n",
       "49479547  <p>I'm setting a var using \\n<code>set TEST_VA...   \n",
       "\n",
       "                                                 Tags  \\\n",
       "Id                                                      \n",
       "34862324           <java><algorithm><graph-algorithm>   \n",
       "47303682                         <html><r><dataframe>   \n",
       "46431243  <python><pandas><dataframe><pandas-groupby>   \n",
       "45306324                  <angular><typescript><rxjs>   \n",
       "49479547                     <c><windows><batch-file>   \n",
       "\n",
       "                                                      Title  target  \n",
       "Id                                                                   \n",
       "34862324  I am implementing a Minimum Spanning Forrest a...       2  \n",
       "47303682  R Studio: Date is getting converted to number,...       2  \n",
       "46431243  Pandas - dataframe groupby - how to get sum of...       0  \n",
       "45306324  Casting results from Observable.forkJoin to th...       0  \n",
       "49479547  Environment variable set in batch file cannot ...       1  "
      ]
     },
     "execution_count": 3,
     "metadata": {},
     "output_type": "execute_result"
    }
   ],
   "source": [
    "train.head()"
   ]
  },
  {
   "cell_type": "code",
   "execution_count": 4,
   "metadata": {},
   "outputs": [],
   "source": [
    "train['Body'] = train['Title'] + \" \" + train['Body']\n",
    "test['Body'] = test['Title'] + \" \" + test['Body']"
   ]
  },
  {
   "cell_type": "code",
   "execution_count": 5,
   "metadata": {},
   "outputs": [
    {
     "data": {
      "text/html": [
       "<div>\n",
       "<style scoped>\n",
       "    .dataframe tbody tr th:only-of-type {\n",
       "        vertical-align: middle;\n",
       "    }\n",
       "\n",
       "    .dataframe tbody tr th {\n",
       "        vertical-align: top;\n",
       "    }\n",
       "\n",
       "    .dataframe thead th {\n",
       "        text-align: right;\n",
       "    }\n",
       "</style>\n",
       "<table border=\"1\" class=\"dataframe\">\n",
       "  <thead>\n",
       "    <tr style=\"text-align: right;\">\n",
       "      <th></th>\n",
       "      <th>Body</th>\n",
       "      <th>Tags</th>\n",
       "      <th>Title</th>\n",
       "      <th>target</th>\n",
       "    </tr>\n",
       "    <tr>\n",
       "      <th>Id</th>\n",
       "      <th></th>\n",
       "      <th></th>\n",
       "      <th></th>\n",
       "      <th></th>\n",
       "    </tr>\n",
       "  </thead>\n",
       "  <tbody>\n",
       "    <tr>\n",
       "      <th>34862324</th>\n",
       "      <td>I am implementing a Minimum Spanning Forrest a...</td>\n",
       "      <td>&lt;java&gt;&lt;algorithm&gt;&lt;graph-algorithm&gt;</td>\n",
       "      <td>I am implementing a Minimum Spanning Forrest a...</td>\n",
       "      <td>2</td>\n",
       "    </tr>\n",
       "    <tr>\n",
       "      <th>47303682</th>\n",
       "      <td>R Studio: Date is getting converted to number,...</td>\n",
       "      <td>&lt;html&gt;&lt;r&gt;&lt;dataframe&gt;</td>\n",
       "      <td>R Studio: Date is getting converted to number,...</td>\n",
       "      <td>2</td>\n",
       "    </tr>\n",
       "    <tr>\n",
       "      <th>46431243</th>\n",
       "      <td>Pandas - dataframe groupby - how to get sum of...</td>\n",
       "      <td>&lt;python&gt;&lt;pandas&gt;&lt;dataframe&gt;&lt;pandas-groupby&gt;</td>\n",
       "      <td>Pandas - dataframe groupby - how to get sum of...</td>\n",
       "      <td>0</td>\n",
       "    </tr>\n",
       "    <tr>\n",
       "      <th>45306324</th>\n",
       "      <td>Casting results from Observable.forkJoin to th...</td>\n",
       "      <td>&lt;angular&gt;&lt;typescript&gt;&lt;rxjs&gt;</td>\n",
       "      <td>Casting results from Observable.forkJoin to th...</td>\n",
       "      <td>0</td>\n",
       "    </tr>\n",
       "    <tr>\n",
       "      <th>49479547</th>\n",
       "      <td>Environment variable set in batch file cannot ...</td>\n",
       "      <td>&lt;c&gt;&lt;windows&gt;&lt;batch-file&gt;</td>\n",
       "      <td>Environment variable set in batch file cannot ...</td>\n",
       "      <td>1</td>\n",
       "    </tr>\n",
       "  </tbody>\n",
       "</table>\n",
       "</div>"
      ],
      "text/plain": [
       "                                                       Body  \\\n",
       "Id                                                            \n",
       "34862324  I am implementing a Minimum Spanning Forrest a...   \n",
       "47303682  R Studio: Date is getting converted to number,...   \n",
       "46431243  Pandas - dataframe groupby - how to get sum of...   \n",
       "45306324  Casting results from Observable.forkJoin to th...   \n",
       "49479547  Environment variable set in batch file cannot ...   \n",
       "\n",
       "                                                 Tags  \\\n",
       "Id                                                      \n",
       "34862324           <java><algorithm><graph-algorithm>   \n",
       "47303682                         <html><r><dataframe>   \n",
       "46431243  <python><pandas><dataframe><pandas-groupby>   \n",
       "45306324                  <angular><typescript><rxjs>   \n",
       "49479547                     <c><windows><batch-file>   \n",
       "\n",
       "                                                      Title  target  \n",
       "Id                                                                   \n",
       "34862324  I am implementing a Minimum Spanning Forrest a...       2  \n",
       "47303682  R Studio: Date is getting converted to number,...       2  \n",
       "46431243  Pandas - dataframe groupby - how to get sum of...       0  \n",
       "45306324  Casting results from Observable.forkJoin to th...       0  \n",
       "49479547  Environment variable set in batch file cannot ...       1  "
      ]
     },
     "execution_count": 5,
     "metadata": {},
     "output_type": "execute_result"
    }
   ],
   "source": [
    "train.head()"
   ]
  },
  {
   "cell_type": "code",
   "execution_count": 6,
   "metadata": {},
   "outputs": [
    {
     "data": {
      "text/html": [
       "<div>\n",
       "<style scoped>\n",
       "    .dataframe tbody tr th:only-of-type {\n",
       "        vertical-align: middle;\n",
       "    }\n",
       "\n",
       "    .dataframe tbody tr th {\n",
       "        vertical-align: top;\n",
       "    }\n",
       "\n",
       "    .dataframe thead th {\n",
       "        text-align: right;\n",
       "    }\n",
       "</style>\n",
       "<table border=\"1\" class=\"dataframe\">\n",
       "  <thead>\n",
       "    <tr style=\"text-align: right;\">\n",
       "      <th></th>\n",
       "      <th>Body</th>\n",
       "      <th>Tags</th>\n",
       "      <th>Title</th>\n",
       "      <th>target</th>\n",
       "    </tr>\n",
       "    <tr>\n",
       "      <th>Id</th>\n",
       "      <th></th>\n",
       "      <th></th>\n",
       "      <th></th>\n",
       "      <th></th>\n",
       "    </tr>\n",
       "  </thead>\n",
       "  <tbody>\n",
       "    <tr>\n",
       "      <th>34862324</th>\n",
       "      <td>i am implementing a minimum spanning forrest a...</td>\n",
       "      <td>&lt;java&gt;&lt;algorithm&gt;&lt;graph-algorithm&gt;</td>\n",
       "      <td>I am implementing a Minimum Spanning Forrest a...</td>\n",
       "      <td>2</td>\n",
       "    </tr>\n",
       "    <tr>\n",
       "      <th>47303682</th>\n",
       "      <td>r studio date is getting converted to number w...</td>\n",
       "      <td>&lt;html&gt;&lt;r&gt;&lt;dataframe&gt;</td>\n",
       "      <td>R Studio: Date is getting converted to number,...</td>\n",
       "      <td>2</td>\n",
       "    </tr>\n",
       "    <tr>\n",
       "      <th>46431243</th>\n",
       "      <td>pandas  dataframe groupby  how to get sum of m...</td>\n",
       "      <td>&lt;python&gt;&lt;pandas&gt;&lt;dataframe&gt;&lt;pandas-groupby&gt;</td>\n",
       "      <td>Pandas - dataframe groupby - how to get sum of...</td>\n",
       "      <td>0</td>\n",
       "    </tr>\n",
       "    <tr>\n",
       "      <th>45306324</th>\n",
       "      <td>casting results from observableforkjoin to the...</td>\n",
       "      <td>&lt;angular&gt;&lt;typescript&gt;&lt;rxjs&gt;</td>\n",
       "      <td>Casting results from Observable.forkJoin to th...</td>\n",
       "      <td>0</td>\n",
       "    </tr>\n",
       "    <tr>\n",
       "      <th>49479547</th>\n",
       "      <td>environment variable set in batch file cannot ...</td>\n",
       "      <td>&lt;c&gt;&lt;windows&gt;&lt;batch-file&gt;</td>\n",
       "      <td>Environment variable set in batch file cannot ...</td>\n",
       "      <td>1</td>\n",
       "    </tr>\n",
       "  </tbody>\n",
       "</table>\n",
       "</div>"
      ],
      "text/plain": [
       "                                                       Body  \\\n",
       "Id                                                            \n",
       "34862324  i am implementing a minimum spanning forrest a...   \n",
       "47303682  r studio date is getting converted to number w...   \n",
       "46431243  pandas  dataframe groupby  how to get sum of m...   \n",
       "45306324  casting results from observableforkjoin to the...   \n",
       "49479547  environment variable set in batch file cannot ...   \n",
       "\n",
       "                                                 Tags  \\\n",
       "Id                                                      \n",
       "34862324           <java><algorithm><graph-algorithm>   \n",
       "47303682                         <html><r><dataframe>   \n",
       "46431243  <python><pandas><dataframe><pandas-groupby>   \n",
       "45306324                  <angular><typescript><rxjs>   \n",
       "49479547                     <c><windows><batch-file>   \n",
       "\n",
       "                                                      Title  target  \n",
       "Id                                                                   \n",
       "34862324  I am implementing a Minimum Spanning Forrest a...       2  \n",
       "47303682  R Studio: Date is getting converted to number,...       2  \n",
       "46431243  Pandas - dataframe groupby - how to get sum of...       0  \n",
       "45306324  Casting results from Observable.forkJoin to th...       0  \n",
       "49479547  Environment variable set in batch file cannot ...       1  "
      ]
     },
     "execution_count": 6,
     "metadata": {},
     "output_type": "execute_result"
    }
   ],
   "source": [
    "# Clean the data\n",
    "def clean_text(text):\n",
    "    text = text.lower()\n",
    "    text = re.sub(r'[^(a-zA-Z)\\s]','', text)\n",
    "    return text\n",
    "\n",
    "train['Body'] = train['Body'].apply(clean_text)\n",
    "test['Body'] = test['Body'].apply(clean_text)\n",
    "train.head()"
   ]
  },
  {
   "cell_type": "code",
   "execution_count": 7,
   "metadata": {},
   "outputs": [
    {
     "data": {
      "text/html": [
       "<div>\n",
       "<style scoped>\n",
       "    .dataframe tbody tr th:only-of-type {\n",
       "        vertical-align: middle;\n",
       "    }\n",
       "\n",
       "    .dataframe tbody tr th {\n",
       "        vertical-align: top;\n",
       "    }\n",
       "\n",
       "    .dataframe thead th {\n",
       "        text-align: right;\n",
       "    }\n",
       "</style>\n",
       "<table border=\"1\" class=\"dataframe\">\n",
       "  <thead>\n",
       "    <tr style=\"text-align: right;\">\n",
       "      <th></th>\n",
       "      <th>Body</th>\n",
       "      <th>Tags</th>\n",
       "      <th>Title</th>\n",
       "      <th>target</th>\n",
       "    </tr>\n",
       "    <tr>\n",
       "      <th>Id</th>\n",
       "      <th></th>\n",
       "      <th></th>\n",
       "      <th></th>\n",
       "      <th></th>\n",
       "    </tr>\n",
       "  </thead>\n",
       "  <tbody>\n",
       "    <tr>\n",
       "      <th>34862324</th>\n",
       "      <td>implementing minimum spanning forrest algorihm...</td>\n",
       "      <td>&lt;java&gt;&lt;algorithm&gt;&lt;graph-algorithm&gt;</td>\n",
       "      <td>I am implementing a Minimum Spanning Forrest a...</td>\n",
       "      <td>2</td>\n",
       "    </tr>\n",
       "    <tr>\n",
       "      <th>47303682</th>\n",
       "      <td>r studio date getting converted number making ...</td>\n",
       "      <td>&lt;html&gt;&lt;r&gt;&lt;dataframe&gt;</td>\n",
       "      <td>R Studio: Date is getting converted to number,...</td>\n",
       "      <td>2</td>\n",
       "    </tr>\n",
       "    <tr>\n",
       "      <th>46431243</th>\n",
       "      <td>pandas  dataframe groupby  get sum multiple co...</td>\n",
       "      <td>&lt;python&gt;&lt;pandas&gt;&lt;dataframe&gt;&lt;pandas-groupby&gt;</td>\n",
       "      <td>Pandas - dataframe groupby - how to get sum of...</td>\n",
       "      <td>0</td>\n",
       "    </tr>\n",
       "    <tr>\n",
       "      <th>45306324</th>\n",
       "      <td>casting results observableforkjoin respective ...</td>\n",
       "      <td>&lt;angular&gt;&lt;typescript&gt;&lt;rxjs&gt;</td>\n",
       "      <td>Casting results from Observable.forkJoin to th...</td>\n",
       "      <td>0</td>\n",
       "    </tr>\n",
       "    <tr>\n",
       "      <th>49479547</th>\n",
       "      <td>environment variable set batch file cannot acc...</td>\n",
       "      <td>&lt;c&gt;&lt;windows&gt;&lt;batch-file&gt;</td>\n",
       "      <td>Environment variable set in batch file cannot ...</td>\n",
       "      <td>1</td>\n",
       "    </tr>\n",
       "  </tbody>\n",
       "</table>\n",
       "</div>"
      ],
      "text/plain": [
       "                                                       Body  \\\n",
       "Id                                                            \n",
       "34862324  implementing minimum spanning forrest algorihm...   \n",
       "47303682  r studio date getting converted number making ...   \n",
       "46431243  pandas  dataframe groupby  get sum multiple co...   \n",
       "45306324  casting results observableforkjoin respective ...   \n",
       "49479547  environment variable set batch file cannot acc...   \n",
       "\n",
       "                                                 Tags  \\\n",
       "Id                                                      \n",
       "34862324           <java><algorithm><graph-algorithm>   \n",
       "47303682                         <html><r><dataframe>   \n",
       "46431243  <python><pandas><dataframe><pandas-groupby>   \n",
       "45306324                  <angular><typescript><rxjs>   \n",
       "49479547                     <c><windows><batch-file>   \n",
       "\n",
       "                                                      Title  target  \n",
       "Id                                                                   \n",
       "34862324  I am implementing a Minimum Spanning Forrest a...       2  \n",
       "47303682  R Studio: Date is getting converted to number,...       2  \n",
       "46431243  Pandas - dataframe groupby - how to get sum of...       0  \n",
       "45306324  Casting results from Observable.forkJoin to th...       0  \n",
       "49479547  Environment variable set in batch file cannot ...       1  "
      ]
     },
     "execution_count": 7,
     "metadata": {},
     "output_type": "execute_result"
    }
   ],
   "source": [
    "from nltk.corpus import stopwords \n",
    "from nltk.tokenize import word_tokenize \n",
    "  \n",
    "example_sent = \"This is a sample sentence, showing off the stop words filtration.\"  \n",
    "stop_words = set(stopwords.words('english')) \n",
    "\n",
    "def remove_stopword(words):\n",
    "    list_clean = [w for w in words.split(' ') if not w in stop_words]\n",
    "    return ' '.join(list_clean)\n",
    "\n",
    "train['Body'] = train['Body'].apply(remove_stopword)\n",
    "test['Body'] = test['Body'].apply(remove_stopword)\n",
    "train.head()"
   ]
  },
  {
   "cell_type": "code",
   "execution_count": 8,
   "metadata": {},
   "outputs": [],
   "source": [
    "X_text = train['Body']\n",
    "X_test_text = test['Body']\n",
    "y = train['target']"
   ]
  },
  {
   "cell_type": "code",
   "execution_count": 9,
   "metadata": {},
   "outputs": [
    {
     "data": {
      "text/plain": [
       "(48000, 352497)"
      ]
     },
     "execution_count": 9,
     "metadata": {},
     "output_type": "execute_result"
    }
   ],
   "source": [
    "count_vect = CountVectorizer()\n",
    "X_train_counts = count_vect.fit_transform(X_text)\n",
    "X_train_counts.shape"
   ]
  },
  {
   "cell_type": "code",
   "execution_count": 10,
   "metadata": {},
   "outputs": [
    {
     "data": {
      "text/plain": [
       "(12000, 352497)"
      ]
     },
     "execution_count": 10,
     "metadata": {},
     "output_type": "execute_result"
    }
   ],
   "source": [
    "X_test_counts = count_vect.transform(X_test_text)\n",
    "X_test_counts.shape"
   ]
  },
  {
   "cell_type": "code",
   "execution_count": 11,
   "metadata": {},
   "outputs": [
    {
     "data": {
      "text/plain": [
       "(48000, 352497)"
      ]
     },
     "execution_count": 11,
     "metadata": {},
     "output_type": "execute_result"
    }
   ],
   "source": [
    "tfidf_transformer = TfidfTransformer()\n",
    "X_train_tfidf = tfidf_transformer.fit_transform(X_train_counts)\n",
    "X_test_tfidf = tfidf_transformer.transform(X_test_counts)\n",
    "X_train_tfidf.shape"
   ]
  },
  {
   "cell_type": "code",
   "execution_count": 12,
   "metadata": {},
   "outputs": [],
   "source": [
    "from sklearn.model_selection import train_test_split"
   ]
  },
  {
   "cell_type": "code",
   "execution_count": 13,
   "metadata": {},
   "outputs": [],
   "source": [
    "X_train, X_val, y_train, y_val = train_test_split(X_train_tfidf, y, test_size=0.05, random_state=42)"
   ]
  },
  {
   "cell_type": "markdown",
   "metadata": {},
   "source": [
    "#### LinearSVC"
   ]
  },
  {
   "cell_type": "code",
   "execution_count": 15,
   "metadata": {},
   "outputs": [],
   "source": [
    "lsvc = LinearSVC().fit(X_train,y_train)"
   ]
  },
  {
   "cell_type": "code",
   "execution_count": 16,
   "metadata": {},
   "outputs": [
    {
     "data": {
      "text/plain": [
       "0.8670833333333333"
      ]
     },
     "execution_count": 16,
     "metadata": {},
     "output_type": "execute_result"
    }
   ],
   "source": [
    "lsvc.score(X_val,y_val)"
   ]
  },
  {
   "cell_type": "markdown",
   "metadata": {},
   "source": [
    "Получилось, мягко скажем, интересно. С максимально примитивной обработкой и простым классификатором результаты получились лучше всего, что я сделал до того момента, что меня, мягко скажем, расстроило. Я решил проверить, какой именно шаг предобработки всё рушит."
   ]
  },
  {
   "cell_type": "markdown",
   "metadata": {},
   "source": [
    "Дополнительных относительно такой простой предобработки шагов было несколько: удаление кода, удаление разметки и лемматизация. Я последовательно с одним и тем же разбиением добавлял шаг предобработки и проверял SVC, чтобы посмотреть, на каком шаге рушится точность."
   ]
  },
  {
   "cell_type": "markdown",
   "metadata": {},
   "source": [
    "От лемматизации точность падает. От удаления кода точность падает ОЧЕНЬ сильно."
   ]
  },
  {
   "cell_type": "markdown",
   "metadata": {},
   "source": [
    "От удаления разметки точность падает ОЧЕНЬ-ОЧЕНЬ сильно. Не важно даже, убираешь ли ты < > </ > блоки вообще или просто заменяешь угловые скобки пробелами, чтобы тэги с нормальными словами не сливались и не получалось чего-то out-of-dictionary для эмбеддингов - всё едино, один хер, обвал точности просто из-за тэгов, что для меня всё ещё огромная загадка."
   ]
  },
  {
   "cell_type": "markdown",
   "metadata": {},
   "source": [
    "На этом этапе я уже не пробовал вообще всё подряд, но попробовал LSTM (с нормальной загрузкой эмбеддингов, она такая же, как будет ноутбуке с моими лучшими резами), LSTM в сочетании с CNN (приложу), и CNN (уже под конец, но не получилось выбиться за 90% и я уже забил, когда увидел, какие результаты у остальных)"
   ]
  },
  {
   "cell_type": "markdown",
   "metadata": {},
   "source": [
    "В общем архитектура общая - два отдельных входа, языковые фичи с обработкой LSTM / CNN / LSTM-RNN-maxpool / LSTM-CNN / ... на один вход, не-языковые (или относительно языковые) на другой (с последующей конкатенацией), и далее либо полносвязный 512 или 256 слои, либо, пропуская этот этап, сразу на выход."
   ]
  },
  {
   "cell_type": "markdown",
   "metadata": {},
   "source": [
    "Для фич прошу обратиться к 4. Feature Engineering.ipynb. Три достойные внимания модели и принёсшую лучший результат я вынес в 5."
   ]
  },
  {
   "cell_type": "markdown",
   "metadata": {},
   "source": [
    "Несмотря на то, что я в лабу всадил слишком много времени, я все равно узнал несколько полезных вещей, так что оно в конечном счёте стоило того. Спасибо!"
   ]
  },
  {
   "cell_type": "code",
   "execution_count": null,
   "metadata": {},
   "outputs": [],
   "source": []
  }
 ],
 "metadata": {
  "kernelspec": {
   "display_name": "Python 3",
   "language": "python",
   "name": "python3"
  },
  "language_info": {
   "codemirror_mode": {
    "name": "ipython",
    "version": 3
   },
   "file_extension": ".py",
   "mimetype": "text/x-python",
   "name": "python",
   "nbconvert_exporter": "python",
   "pygments_lexer": "ipython3",
   "version": "3.6.9"
  }
 },
 "nbformat": 4,
 "nbformat_minor": 4
}
